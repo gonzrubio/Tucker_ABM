{
 "cells": [
  {
   "cell_type": "markdown",
   "metadata": {},
   "source": [
    "# Tucker Model"
   ]
  },
  {
   "cell_type": "code",
   "execution_count": 1,
   "metadata": {},
   "outputs": [],
   "source": [
    "# Libraries/packages\n",
    "\n",
    "import numpy as np\n",
    "import pandas as pd\n",
    "import matplotlib.pyplot as plt\n",
    "import math \n",
    "from scipy import optimize"
   ]
  },
  {
   "cell_type": "markdown",
   "metadata": {},
   "source": [
    "### Camp Structure"
   ]
  },
  {
   "cell_type": "code",
   "execution_count": 2,
   "metadata": {},
   "outputs": [],
   "source": [
    "Nb = 8100          # Number of people in isoboxes.\n",
    "mub = 10           # Isoboxes mean occupancy (people).\n",
    "hb = Nb / mub      # Number of isoboxes. \n",
    "iba = 0.5          # Proportion of area covered by isoboxes.\n",
    "\n",
    "Nt = 10600         # Number of people in tents.\n",
    "mut = 4            # Tents occupancy of (people).\n",
    "ht = 10600 / mut   # Number of tents.\n",
    "\n",
    "fblocks = np.array([1,1])   # initial sectoring.\n",
    "N = Nb + Nt                 # Total population.\n"
   ]
  },
  {
   "cell_type": "markdown",
   "metadata": {},
   "source": [
    "### Emperical Age and Sex Distribution"
   ]
  },
  {
   "cell_type": "code",
   "execution_count": 3,
   "metadata": {},
   "outputs": [
    {
     "data": {
      "text/html": [
       "<div>\n",
       "<style scoped>\n",
       "    .dataframe tbody tr th:only-of-type {\n",
       "        vertical-align: middle;\n",
       "    }\n",
       "\n",
       "    .dataframe tbody tr th {\n",
       "        vertical-align: top;\n",
       "    }\n",
       "\n",
       "    .dataframe thead th {\n",
       "        text-align: right;\n",
       "    }\n",
       "</style>\n",
       "<table border=\"1\" class=\"dataframe\">\n",
       "  <thead>\n",
       "    <tr style=\"text-align: right;\">\n",
       "      <th></th>\n",
       "      <th>V1</th>\n",
       "      <th>V2</th>\n",
       "    </tr>\n",
       "  </thead>\n",
       "  <tbody>\n",
       "    <tr>\n",
       "      <th>0</th>\n",
       "      <td>2.1</td>\n",
       "      <td>1</td>\n",
       "    </tr>\n",
       "    <tr>\n",
       "      <th>1</th>\n",
       "      <td>25.6</td>\n",
       "      <td>0</td>\n",
       "    </tr>\n",
       "    <tr>\n",
       "      <th>2</th>\n",
       "      <td>23.6</td>\n",
       "      <td>0</td>\n",
       "    </tr>\n",
       "    <tr>\n",
       "      <th>3</th>\n",
       "      <td>49.6</td>\n",
       "      <td>1</td>\n",
       "    </tr>\n",
       "    <tr>\n",
       "      <th>4</th>\n",
       "      <td>28.6</td>\n",
       "      <td>0</td>\n",
       "    </tr>\n",
       "  </tbody>\n",
       "</table>\n",
       "</div>"
      ],
      "text/plain": [
       "     V1  V2\n",
       "0   2.1   1\n",
       "1  25.6   0\n",
       "2  23.6   0\n",
       "3  49.6   1\n",
       "4  28.6   0"
      ]
     },
     "execution_count": 3,
     "metadata": {},
     "output_type": "execute_result"
    }
   ],
   "source": [
    "path_to_file = 'age_and_sex.csv'            # Observed data.\n",
    "age_and_sex = pd.read_csv(path_to_file)     # Data frame. V1 = age, V2 is sex (1 = male?, 0  = female?).\n",
    "#type(age_and_sex)\n",
    "\n",
    "# Remove \"Unamed column\" and preview.\n",
    "age_and_sex = age_and_sex.loc[:, ~age_and_sex.columns.str.contains('^Unnamed')]\n",
    "age_and_sex.head() "
   ]
  },
  {
   "cell_type": "code",
   "execution_count": 4,
   "metadata": {},
   "outputs": [],
   "source": [
    "age_and_sex.describe()            # Summary stats.\n",
    "age_and_sex = age_and_sex.values  # dataframe to 2D array.\n",
    "#type(age_and_sex)\n",
    "#age_and_sex[:5,]"
   ]
  },
  {
   "cell_type": "markdown",
   "metadata": {},
   "source": [
    "### Transmission parameters"
   ]
  },
  {
   "cell_type": "code",
   "execution_count": 5,
   "metadata": {},
   "outputs": [],
   "source": [
    "# Infection\n",
    "twh = 0.5   # Probability of infecting each person in your household per day.\n",
    "aip = 0.1   # Probability of infecting each person you meet per meeting (Fang et al.)\n",
    "tr = 1      # Initial transmission reduction (relative to assumed per contact transmission rate, outside household only)."
   ]
  },
  {
   "cell_type": "markdown",
   "metadata": {},
   "source": [
    "### Other parameters"
   ]
  },
  {
   "cell_type": "code",
   "execution_count": 6,
   "metadata": {},
   "outputs": [],
   "source": [
    "siprob = 0        # Probability of spotting symptoms, per person per day.\n",
    "clearday = 7      # Days in quarantine after no virus shedding (i.e., recovery).\n",
    "pac = 0.179       # Permanently asymptomatic cases (Mizumoto et al 2020 Eurosurveillance).\n",
    "ss = 0.20         # Realtive strength of interaction between different ethnicities."
   ]
  },
  {
   "cell_type": "markdown",
   "metadata": {},
   "source": [
    "### Initial movement parameters\n",
    "Note that the initial assumption is that\n",
    "everyone uses the larger radius some proportion of the time, which is\n",
    "__NOT__ the same as assuming that some people always use the larger radius,\n",
    "Nonetheless, I am setting the proportion equal to the number of males age 10-50 in the population."
   ]
  },
  {
   "cell_type": "code",
   "execution_count": 7,
   "metadata": {},
   "outputs": [],
   "source": [
    "lr1 = 0.02       # Smaller movement radius\n",
    "lr2 = 0.1        # Larger movement radius\n",
    "lrtol = 0.02     # Scale interactions - two people with completely overlapping rages with this radius interact once per day"
   ]
  },
  {
   "cell_type": "markdown",
   "metadata": {},
   "source": [
    "### Create population matrix (pop)\n",
    "Columns:\n",
    "0. Home number\n",
    "1. Disease state: 0 = susceptible, 1 = exposed, 2 = presymptomatic, 3 = symptomatic, 4 = mild, 5 = severe, 6 = recovered. Similar states in quarentine are the same plus seven.\n",
    "2. Days to symptoms for this person\n",
    "3. Days passed in current state\n",
    "4. Whether this person will be asymptomatic\n",
    "5. Age\n",
    "6. Male: = 1 if male? \n",
    "7. Chronic: = 1 if chronic disease?\n",
    "8. Wanderer (Uses the larger radius).\n",
    "\n",
    "pop is $N \\times 9$"
   ]
  },
  {
   "cell_type": "markdown",
   "metadata": {},
   "source": [
    "#### Columns 0-1 (House number and disease state)\n",
    "\n",
    "- Randomly assign each person to a household (rN).\n",
    "- Draw a sample from uniform distribution between 1-810 (hb). Meaning we chose a random isobox.\n",
    "- Then repeat that 8100 (Nb) times. AKA assign each person to an isobox.\n",
    "- Do the same for the tent group.\n",
    "- Indices (ui) of the unique array that reconstruct the input array (rN).\n",
    "- The number of inidces should equal total population (N).\n",
    "- Start each person as susceptible (col 1 = 0).\n",
    "- Randomly assign one person to be exposed to the virus (pop[someindex,1]=1)."
   ]
  },
  {
   "cell_type": "code",
   "execution_count": 8,
   "metadata": {},
   "outputs": [],
   "source": [
    "rN = np.concatenate((np.ceil(hb*np.random.uniform(0,1,Nb)), hb+np.ceil(ht*np.random.uniform(0,1,Nt)))) \n",
    "# plt.hist(rN,bins='auto')\n",
    "\n",
    "U,ui = np.unique(rN, return_inverse=True)\n",
    "# U[ui] == rN\n",
    "\n",
    "pop = np.column_stack((np.sort(ui), np.zeros((ui.shape)))) # Size N x 2 (18700 x 2).\n",
    "# pop.shape\n",
    "\n",
    "pop[np.random.randint(0,N),1] = 1"
   ]
  },
  {
   "cell_type": "code",
   "execution_count": 9,
   "metadata": {},
   "outputs": [
    {
     "data": {
      "text/plain": [
       "(18700, 2)"
      ]
     },
     "execution_count": 9,
     "metadata": {},
     "output_type": "execute_result"
    }
   ],
   "source": [
    "pop.shape"
   ]
  },
  {
   "cell_type": "markdown",
   "metadata": {},
   "source": [
    "#### Columns 2-4 (symptoms)\n",
    "- Col 2: Days to first symptoms (if they develop symptoms) for each person, following (Backer et al. 2020 Eurosurveillance)\n",
    "- Col 3: Days passed in current state, 0 for now.\n",
    "- Col 4: Whether this person will be asymptomatic."
   ]
  },
  {
   "cell_type": "code",
   "execution_count": 10,
   "metadata": {},
   "outputs": [],
   "source": [
    "k = (2.3/6.4)**(-1.086)\n",
    "L = 6.4 / (math.gamma(1 + 1/k))\n",
    "pop = np.column_stack( (pop, k*np.random.weibull(L,(N,1)), np.zeros((N,1)), np.random.uniform(0,1,N)<pac*(N/(N-300))) )"
   ]
  },
  {
   "cell_type": "code",
   "execution_count": 11,
   "metadata": {},
   "outputs": [
    {
     "data": {
      "text/plain": [
       "(18700, 5)"
      ]
     },
     "execution_count": 11,
     "metadata": {},
     "output_type": "execute_result"
    }
   ],
   "source": [
    "pop.shape"
   ]
  },
  {
   "cell_type": "markdown",
   "metadata": {},
   "source": [
    "#### Columns 5-6 (Age and sex)\n",
    "- Get N random samples from the distribution in the observed data with repetition.\n",
    "- Assign age and sex following the observed distribution in the camp.\n",
    "\n",
    "I believe I treated the age and sex distributions as separate whereas I think I should treat\n",
    "the age and sex for a give individual together (if that makes sense?).\n",
    "i.e. I got the sex and age samples on their own where as the original Matlab code gets them\n",
    "from the age-sex pairs: age_and_sex(randsample(size(age_and_sex,1),N,true),:)\n",
    "\n",
    "However, the distributions seem equal in the original program and here."
   ]
  },
  {
   "cell_type": "code",
   "execution_count": 12,
   "metadata": {},
   "outputs": [],
   "source": [
    "# Is this approach correct?\n",
    "pop = np.column_stack((pop,\n",
    "                       np.random.choice(age_and_sex[:,0],N, replace=True),\n",
    "                       np.random.choice(age_and_sex[:,1], N, replace=True)))\n",
    "# pop.shape"
   ]
  },
  {
   "cell_type": "code",
   "execution_count": 33,
   "metadata": {
    "scrolled": true
   },
   "outputs": [
    {
     "data": {
      "image/png": "[encoded data removed]",
      "text/plain": [
       "<Figure size 432x288 with 1 Axes>"
      ]
     },
     "metadata": {
      "needs_background": "light"
     },
     "output_type": "display_data"
    }
   ],
   "source": [
    "plt.hist(pop[:,5],bins='auto')\n",
    "plt.xlabel('age')\n",
    "plt.show()"
   ]
  },
  {
   "cell_type": "code",
   "execution_count": 34,
   "metadata": {},
   "outputs": [
    {
     "data": {
      "image/png": "[encoded data removed]",
      "text/plain": [
       "<Figure size 432x288 with 1 Axes>"
      ]
     },
     "metadata": {
      "needs_background": "light"
     },
     "output_type": "display_data"
    }
   ],
   "source": [
    "plt.hist(pop[:,6], bins=[-0.5,0.5,1.5], ec=\"k\")\n",
    "plt.xticks((0,1))\n",
    "plt.xlabel('Sex. Male = ?')\n",
    "plt.show()"
   ]
  },
  {
   "cell_type": "markdown",
   "metadata": {},
   "source": [
    "#### Column 7-8 (Chronic States and wanderers)\n",
    "- Matching the relationship between age and chronic states in the data.\n",
    "- Males over the age of ten are wanderers.\n",
    "\n",
    "There is a bug somewhere in the lambda function that makes the minimum (xopt) is too small compared to the original program (~1.62) which causes (rchron) to be 1 for all individuals ... which then makes the asymptomatic column all equal to zero.\n",
    "\n",
    "Would it be sensible to put an upper limit on the age when defining wanderers? ie. 10 < age < 60"
   ]
  },
  {
   "cell_type": "code",
   "execution_count": 46,
   "metadata": {},
   "outputs": [
    {
     "name": "stdout",
     "output_type": "stream",
     "text": [
      "Optimization terminated successfully.\n",
      "         Current function value: 18400.000000\n",
      "         Iterations: 25\n",
      "         Function evaluations: 66\n",
      "[-34.]\n"
     ]
    }
   ],
   "source": [
    "myfunction = lambda x: np.absolute(300-np.sum((1+np.exp(-(x-11.69+.2191*pop[:,5]-0.001461*pop[:,5]**2))**(-1))))\n",
    "xopt = optimize.fmin(func=myfunction, x0=[4])\n",
    "print(xopt)"
   ]
  },
  {
   "cell_type": "code",
   "execution_count": 45,
   "metadata": {},
   "outputs": [
    {
     "name": "stdout",
     "output_type": "stream",
     "text": [
      "1.0\n",
      "(18700, 8)\n"
     ]
    }
   ],
   "source": [
    "rchron = (1+np.exp(-(xopt-11.69+.2191*pop[:,5]-0.001461*pop[:,5]**2))**(-1))\n",
    "print(np.min(rchron))\n",
    "#pop = np.column_stack( (pop, np.random.uniform(0,1,N) < rchron) )\n",
    "print(pop.shape)"
   ]
  },
  {
   "cell_type": "code",
   "execution_count": 67,
   "metadata": {},
   "outputs": [
    {
     "name": "stdout",
     "output_type": "stream",
     "text": [
      "[0. 0. 0. ... 0. 0. 0.]\n",
      "(18700, 9)\n"
     ]
    }
   ],
   "source": [
    "# Ensure that people with chronic conditions are not asymptomatic, and correct number of asymptomatics above.\n",
    "# In other words, if chronic conditions = 1 then not asymptomatic ?  \n",
    "pop[ pop[:,7] == 1,4 ] = 0 \n",
    "print(pop[:,4])\n",
    "#pop = np.column_stack( (pop, np.logical_and([pop[:,6] == 1], [10 <= pop[:,5]]).transpose() ) ) # Wanderers\n",
    "print(pop.shape)"
   ]
  },
  {
   "cell_type": "markdown",
   "metadata": {},
   "source": [
    "#### Create households\n",
    "- pph is people per household\n",
    "- hhloc are the x and y coordinates of each household\n",
    "\n",
    "Note: maxhh is not equal to ht + hb ? 44 households missing."
   ]
  },
  {
   "cell_type": "code",
   "execution_count": 87,
   "metadata": {},
   "outputs": [
    {
     "data": {
      "image/png": "[encoded data removed]",
      "text/plain": [
       "<Figure size 432x288 with 1 Axes>"
      ]
     },
     "metadata": {
      "needs_background": "light"
     },
     "output_type": "display_data"
    },
    {
     "name": "stdout",
     "output_type": "stream",
     "text": [
      "3416\n",
      "3460.0\n"
     ]
    }
   ],
   "source": [
    "pph = np.bincount(ui)\n",
    "plt.hist(pph)\n",
    "plt.xlabel('people per house')\n",
    "plt.show()\n",
    "\n",
    "maxhh = pph.size\n",
    "print(maxhh)  # This number is different than \n",
    "print(ht+hb)"
   ]
  },
  {
   "cell_type": "code",
   "execution_count": null,
   "metadata": {},
   "outputs": [],
   "source": []
  },
  {
   "cell_type": "code",
   "execution_count": null,
   "metadata": {},
   "outputs": [],
   "source": []
  }
 ],
 "metadata": {
  "kernelspec": {
   "display_name": "Python 3",
   "language": "python",
   "name": "python3"
  },
  "language_info": {
   "codemirror_mode": {
    "name": "ipython",
    "version": 3
   },
   "file_extension": ".py",
   "mimetype": "text/x-python",
   "name": "python",
   "nbconvert_exporter": "python",
   "pygments_lexer": "ipython3",
   "version": "3.7.0"
  }
 },
 "nbformat": 4,
 "nbformat_minor": 4
}

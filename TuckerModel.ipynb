{
 "cells": [
  {
   "cell_type": "markdown",
   "metadata": {},
   "source": [
    "# Tucker Model"
   ]
  },
  {
   "cell_type": "code",
   "execution_count": 49,
   "metadata": {},
   "outputs": [],
   "source": [
    "# Libraries/packages\n",
    "\n",
    "import numpy as np\n",
    "import pandas as pd\n",
    "import matplotlib.pyplot as plt\n",
    "import math "
   ]
  },
  {
   "cell_type": "markdown",
   "metadata": {},
   "source": [
    "### Camp Structure"
   ]
  },
  {
   "cell_type": "code",
   "execution_count": 50,
   "metadata": {},
   "outputs": [],
   "source": [
    "Nb = 8100          # Number of people in isoboxes.\n",
    "mub = 10           # Isoboxes mean occupancy (people).\n",
    "hb = Nb / mub      # Number of isoboxes. \n",
    "iba = 0.5          # Proportion of area covered by isoboxes.\n",
    "\n",
    "Nt = 10600         # Number of people in tents.\n",
    "mut = 4            # Tents occupancy of (people).\n",
    "ht = 10600 / mut   # Number of tents.\n",
    "\n",
    "fblocks = np.array([1,1])   # initial sectoring.\n",
    "N = Nb + Nt                 # Total population.\n"
   ]
  },
  {
   "cell_type": "markdown",
   "metadata": {},
   "source": [
    "### Emperical Age and Sex Distribution"
   ]
  },
  {
   "cell_type": "code",
   "execution_count": 51,
   "metadata": {},
   "outputs": [
    {
     "data": {
      "text/html": [
       "<div>\n",
       "<style scoped>\n",
       "    .dataframe tbody tr th:only-of-type {\n",
       "        vertical-align: middle;\n",
       "    }\n",
       "\n",
       "    .dataframe tbody tr th {\n",
       "        vertical-align: top;\n",
       "    }\n",
       "\n",
       "    .dataframe thead th {\n",
       "        text-align: right;\n",
       "    }\n",
       "</style>\n",
       "<table border=\"1\" class=\"dataframe\">\n",
       "  <thead>\n",
       "    <tr style=\"text-align: right;\">\n",
       "      <th></th>\n",
       "      <th>V1</th>\n",
       "      <th>V2</th>\n",
       "    </tr>\n",
       "  </thead>\n",
       "  <tbody>\n",
       "    <tr>\n",
       "      <th>0</th>\n",
       "      <td>2.1</td>\n",
       "      <td>1</td>\n",
       "    </tr>\n",
       "    <tr>\n",
       "      <th>1</th>\n",
       "      <td>25.6</td>\n",
       "      <td>0</td>\n",
       "    </tr>\n",
       "    <tr>\n",
       "      <th>2</th>\n",
       "      <td>23.6</td>\n",
       "      <td>0</td>\n",
       "    </tr>\n",
       "    <tr>\n",
       "      <th>3</th>\n",
       "      <td>49.6</td>\n",
       "      <td>1</td>\n",
       "    </tr>\n",
       "    <tr>\n",
       "      <th>4</th>\n",
       "      <td>28.6</td>\n",
       "      <td>0</td>\n",
       "    </tr>\n",
       "  </tbody>\n",
       "</table>\n",
       "</div>"
      ],
      "text/plain": [
       "     V1  V2\n",
       "0   2.1   1\n",
       "1  25.6   0\n",
       "2  23.6   0\n",
       "3  49.6   1\n",
       "4  28.6   0"
      ]
     },
     "execution_count": 51,
     "metadata": {},
     "output_type": "execute_result"
    }
   ],
   "source": [
    "path_to_file = 'age_and_sex.csv'            # Observed data.\n",
    "age_and_sex = pd.read_csv(path_to_file)     # Data frame. V1 = age, V2 is sex (1 = male?, 0  = female?).\n",
    "#type(age_and_sex)\n",
    "\n",
    "# Remove \"Unamed column\" and preview.\n",
    "age_and_sex = age_and_sex.loc[:, ~age_and_sex.columns.str.contains('^Unnamed')]\n",
    "age_and_sex.head() "
   ]
  },
  {
   "cell_type": "code",
   "execution_count": 52,
   "metadata": {},
   "outputs": [],
   "source": [
    "age_and_sex.describe()            # Summary stats.\n",
    "age_and_sex = age_and_sex.values  # dataframe to 2D array.\n",
    "#type(age_and_sex)\n",
    "#age_and_sex[:5,]"
   ]
  },
  {
   "cell_type": "markdown",
   "metadata": {},
   "source": [
    "### Transmission parameters"
   ]
  },
  {
   "cell_type": "code",
   "execution_count": 53,
   "metadata": {},
   "outputs": [],
   "source": [
    "# Infection\n",
    "twh = 0.5   # Probability of infecting each person in your household per day.\n",
    "aip = 0.1   # Probability of infecting each person you meet per meeting (Fang et al.)\n",
    "tr = 1      # Initial transmission reduction (relative to assumed per contact transmission rate, outside household only)."
   ]
  },
  {
   "cell_type": "markdown",
   "metadata": {},
   "source": [
    "### Other parameters"
   ]
  },
  {
   "cell_type": "code",
   "execution_count": 54,
   "metadata": {},
   "outputs": [],
   "source": [
    "siprob = 0        # Probability of spotting symptoms, per person per day.\n",
    "clearday = 7      # Days in quarantine after no virus shedding (i.e., recovery).\n",
    "pac = 0.179       # Permanently asymptomatic cases (Mizumoto et al 2020 Eurosurveillance).\n",
    "ss = 0.20         # Realtive strength of interaction between different ethnicities."
   ]
  },
  {
   "cell_type": "markdown",
   "metadata": {},
   "source": [
    "### Initial movement parameters\n",
    "Note that the initial assumption is that\n",
    "everyone uses the larger radius some proportion of the time, which is\n",
    "__NOT__ the same as assuming that some people always use the larger radius,\n",
    "Nonetheless, I am setting the proportion equal to the number of males age 10-50 in the population."
   ]
  },
  {
   "cell_type": "code",
   "execution_count": 55,
   "metadata": {},
   "outputs": [],
   "source": [
    "lr1 = 0.02       # Smaller movement radius\n",
    "lr2 = 0.1        # Larger movement radius\n",
    "lrtol = 0.02     # Scale interactions - two people with completely overlapping rages with this radius interact once per day"
   ]
  },
  {
   "cell_type": "markdown",
   "metadata": {},
   "source": [
    "### Create population matrix (pop)\n",
    "Columns:\n",
    "0. Home number\n",
    "1. Disease state: 0 = susceptible, 1 = exposed, 2 = presymptomatic, 3 = symptomatic, 4 = mild, 5 = severe, 6 = recovered. Similar states in quarentine are the same plus seven.\n",
    "2. Days to symptoms for this person\n",
    "3. Days passed in current state\n",
    "4. Whether this person will be asymptomatic\n",
    "5. Age\n",
    "6. Male\n",
    "7. Chronic\n",
    "8. Wanderer (Uses the larger radius).\n",
    "\n",
    "pop is $N \\times 9$"
   ]
  },
  {
   "cell_type": "markdown",
   "metadata": {},
   "source": [
    "#### Columns 0-1 (House number and disease state)\n",
    "\n",
    "- Randomly assign each person to a household (rN).\n",
    "- Draw a sample from uniform distribution between 1-810 (hb). Meaning we chose a random isobox.\n",
    "- Then repeat that 8100 (Nb) times. AKA assign each person to an isobox.\n",
    "- Do the same for the tent group.\n",
    "- Indices (ui) of the unique array that reconstruct the input array (rN).\n",
    "- The number of inidces should equal total population (N).\n",
    "- Start each person as susceptible (col 1 = 0).\n",
    "- Randomly assign one person to be exposed to the virus (pop[someindex,1]=1)."
   ]
  },
  {
   "cell_type": "code",
   "execution_count": 56,
   "metadata": {},
   "outputs": [],
   "source": [
    "rN = np.concatenate((np.ceil(hb*np.random.uniform(0,1,Nb)), hb+np.ceil(ht*np.random.uniform(0,1,Nt)))) \n",
    "# plt.hist(rN,bins='auto') # max(rN) = 3460. why?\n",
    "\n",
    "U,ui = np.unique(rN, return_inverse=True)\n",
    "# U[ui] == rN\n",
    "\n",
    "pop = np.column_stack((np.sort(ui), np.zeros((ui.shape)))) # Size N x 2 (18700 x 2).\n",
    "# pop.shape\n",
    "\n",
    "pop[np.random.randint(0,N),1] = 1"
   ]
  },
  {
   "cell_type": "code",
   "execution_count": 57,
   "metadata": {},
   "outputs": [
    {
     "data": {
      "text/plain": [
       "(18700, 2)"
      ]
     },
     "execution_count": 57,
     "metadata": {},
     "output_type": "execute_result"
    }
   ],
   "source": [
    "pop.shape"
   ]
  },
  {
   "cell_type": "markdown",
   "metadata": {},
   "source": [
    "#### Columns 2-4\n",
    "- Col 2: Days to first symptoms (if they develop symptoms) for each person, following (Backer et al. 2020 Eurosurveillance)\n",
    "- Col 3: Days passed in current state, 0 for now.\n",
    "- Col 4: Whether this person will be asymptomatic."
   ]
  },
  {
   "cell_type": "code",
   "execution_count": 58,
   "metadata": {},
   "outputs": [],
   "source": [
    "k = (2.3/6.4)**(-1.086)\n",
    "L = 6.4 / (math.gamma(1 + 1/k))\n",
    "pop = np.column_stack( (pop, k*np.random.weibull(L,(N,1)), np.zeros((N,1)), np.random.uniform(0,1,N)<pac*(N/(N-300))) )"
   ]
  },
  {
   "cell_type": "code",
   "execution_count": 59,
   "metadata": {},
   "outputs": [
    {
     "data": {
      "text/plain": [
       "(18700, 5)"
      ]
     },
     "execution_count": 59,
     "metadata": {},
     "output_type": "execute_result"
    }
   ],
   "source": [
    "pop.shape"
   ]
  },
  {
   "cell_type": "markdown",
   "metadata": {},
   "source": [
    "#### Columns 5-6 \n",
    "- Get N random samples from the distribution in the observed data with repetition.\n",
    "- Assign age and sex following the observed distribution in the camp."
   ]
  },
  {
   "cell_type": "code",
   "execution_count": 60,
   "metadata": {},
   "outputs": [],
   "source": [
    "# Is this approach correct?\n",
    "pop = np.column_stack((pop,\n",
    "                       np.random.choice(age_and_sex[:,0],N, replace=True),\n",
    "                       np.random.choice(age_and_sex[:,1], N, replace=True)))\n",
    "\n",
    "\n",
    "# I believe I treated the age and sex distributions as separate whereas I think I should treat\n",
    "# the age and sex for a give individual together (if that makes sense?).\n",
    "# i.e. I got the sex and age samples on their own where as the original Matlab code gets them\n",
    "# from the age-sex pairs: age_and_sex(randsample(size(age_and_sex,1),N,true),:)"
   ]
  },
  {
   "cell_type": "code",
   "execution_count": 61,
   "metadata": {},
   "outputs": [
    {
     "data": {
      "text/plain": [
       "(18700, 7)"
      ]
     },
     "execution_count": 61,
     "metadata": {},
     "output_type": "execute_result"
    }
   ],
   "source": [
    "pop.shape"
   ]
  },
  {
   "cell_type": "code",
   "execution_count": null,
   "metadata": {},
   "outputs": [],
   "source": [
    "#num_rows, num_cols = age_and_sex.shape\n",
    "#num_rows\n",
    "#np.random.randint(num_rows, size = N)"
   ]
  },
  {
   "cell_type": "code",
   "execution_count": null,
   "metadata": {},
   "outputs": [],
   "source": []
  },
  {
   "cell_type": "code",
   "execution_count": null,
   "metadata": {},
   "outputs": [],
   "source": [
    "%Assign chronic states, matching the relationship between age and chronic\n",
    "%states in the data\n",
    "c_adj=fminsearch(@(adj)abs(300-sum((1+exp(-(adj-11.69+.2191*pop(:,6)-0.001461*pop(:,6).^2))).^-1)),4);\n",
    "rchron=(1+exp(-(c_adj-11.69+.2191*pop(:,6)-0.001461*pop(:,6).^2))).^-1;\n",
    "pop=[pop,rand(N,1)<rchron];\n",
    "pop(pop(:,8)==1,5)=0;       %assue that people with chronic conditions are not asymptomatic, and correct number of asymptomatics above\n",
    "pop=[pop,(pop(:,7)==1 & pop(:,6)>=10)];"
   ]
  }
 ],
 "metadata": {
  "kernelspec": {
   "display_name": "Python 3",
   "language": "python",
   "name": "python3"
  },
  "language_info": {
   "codemirror_mode": {
    "name": "ipython",
    "version": 3
   },
   "file_extension": ".py",
   "mimetype": "text/x-python",
   "name": "python",
   "nbconvert_exporter": "python",
   "pygments_lexer": "ipython3",
   "version": "3.7.4"
  }
 },
 "nbformat": 4,
 "nbformat_minor": 4
}

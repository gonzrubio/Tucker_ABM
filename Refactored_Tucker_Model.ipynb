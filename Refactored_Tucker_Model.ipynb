{
 "cells": [
  {
   "cell_type": "code",
   "execution_count": 1,
   "metadata": {},
   "outputs": [],
   "source": [
    "import numpy as np\n",
    "import pandas as pd\n",
    "import matplotlib.pyplot as plt\n",
    "import math \n",
    "from scipy import optimize"
   ]
  },
  {
   "cell_type": "code",
   "execution_count": 2,
   "metadata": {},
   "outputs": [],
   "source": [
    "np.random.seed(seed=42)"
   ]
  },
  {
   "cell_type": "code",
   "execution_count": 5,
   "metadata": {},
   "outputs": [],
   "source": [
    "age_and_sex = pd.read_csv('age_and_sex.csv').drop(['Unnamed: 0'], axis = 1)"
   ]
  },
  {
   "cell_type": "code",
   "execution_count": 7,
   "metadata": {},
   "outputs": [
    {
     "data": {
      "text/plain": [
       "array([[ 2.1,  1. ],\n",
       "       [25.6,  0. ],\n",
       "       [23.6,  0. ],\n",
       "       ...,\n",
       "       [ 2. ,  0. ],\n",
       "       [41.5,  1. ],\n",
       "       [21. ,  0. ]])"
      ]
     },
     "execution_count": 7,
     "metadata": {},
     "output_type": "execute_result"
    }
   ],
   "source": [
    "age_and_sex.values"
   ]
  },
  {
   "cell_type": "code",
   "execution_count": null,
   "metadata": {},
   "outputs": [],
   "source": [
    "class Tucker_Model():\n",
    "    def __init__(self,\n",
    "                 num_ppl_iso, \n",
    "                 mean_iso, \n",
    "                 prop_iso, \n",
    "                 num_ppl_tents, \n",
    "                 max_tent,\n",
    "                 prob_house,\n",
    "                 prob_meet,\n",
    "                 init_trans,\n",
    "                 prob_symp,\n",
    "                 recovery,\n",
    "                 perm_asymp,\n",
    "                 int_eth,\n",
    "                 small_rad,\n",
    "                 large_rad,\n",
    "                 rad_int,\n",
    "                 filename='age_and_sex.csv'):\n",
    "        \n",
    "        self.num_ppl_iso = num_ppl_iso # Number of people in isoboxes. (Nb)\n",
    "        self.mean_iso = mean_iso # Isoboxes mean occupancy (people). (mub)\n",
    "        self.num_iso = num_ppl_iso/mean_iso # Number of isoboxes. (hb)\n",
    "        self.prop_iso = prop_iso # Proportion of area covered by isoboxes. (iba)\n",
    "        self.num_ppl_tents = num_ppl_tents # Number of people in tents. (Nt)\n",
    "        self.max_tent = max_tent # Tents occupancy of (people). (mut)\n",
    "        self.num_tents = num_ppl_tents/max_tent # Number of tents. (ht)\n",
    "        self.total_pop = num_ppl_tents + num_ppl_iso # Total population. (N)\n",
    "        self.prob_house = prob_house # Probability of infecting each person in your household per day. (twh)\n",
    "        self.prob_meet = prob_meet # Probability of infecting each person you meet per meeting (Fang et al.) (aip)\n",
    "        self.init_trans = init_trans # Initial transmission reduction (relative to assumed per contact transmission rate, outside household only). (tr)\n",
    "        self.prob_symp = prob_symp # Probability of spotting symptoms, per person per day. (siprob)\n",
    "        self.recovery = recovery # Days in quarantine after no virus shedding (i.e., recovery). (clearday)\n",
    "        self.perm_asymp = perm_asymp # Permanently asymptomatic cases (Mizumoto et al 2020 Eurosurveillance). (pac)\n",
    "        self.int_eth = int_eth # Realtive strength of interaction between different ethnicities. (ss)\n",
    "        self.small_rad = small_rad # Smaller movement radius. Range around their household during lockdown or females and individuals age < 10. (lr1)\n",
    "        self.large_rad = large_rad # Larger movement radius. ie. Pople who violate lockdown enforcement or males over age 10. (lr2)\n",
    "        self.rad_int = rad_int # Scale interactions - two people with completely overlapping rages with this radius interact once per day (lrtol)\n",
    "        self.data = pd.read_csv(filename).drop(['Unnamed: 0'], axis = 1).values\n",
    "        \n",
    "    def create_matrix(self):\n",
    "        \"\"\"\n",
    "        Creates N x 9 matrix, with the following column definitions:\n",
    "        \n",
    "        Columns:\n",
    "        0. Home number\n",
    "        1. Disease state: 0 = susceptible, 1 = exposed, 2 = presymptomatic, 3 = symptomatic, 4 = mild, 5 = severe, 6 = recovered. Similar states in quarentine are the same plus seven. In other words, this is a categorical variable with values between 0 and 13 inclusive.\n",
    "        2. Days to symptoms for this person\n",
    "        3. Days passed in current state\n",
    "        4. Whether this person will be asymptomatic\n",
    "        5. Age\n",
    "        6. Male: = 1 if male.\n",
    "        7. Chronic: = 1 if chronic disease?\n",
    "        8. Wanderer (Uses the larger radius)\n",
    "        \n",
    "        This is the primary object that is operated on within the class. It will model the epidemic within the community\n",
    "        by adjusting the parameters in the weekend.\n",
    "        \"\"\"\n",
    "        \n",
    "        column_1 = np.subtract(np.concatenate((np.ceil(self.num_iso*np.random.uniform(0,1,self.num_people_iso)), \n",
    "                                               self.num_iso+np.ceil(self.num_tents*np.random.uniform(0,1,Nt)))),1).astype(int)\n",
    "        column_2 = "
   ]
  }
 ],
 "metadata": {
  "kernelspec": {
   "display_name": "Python 3",
   "language": "python",
   "name": "python3"
  },
  "language_info": {
   "codemirror_mode": {
    "name": "ipython",
    "version": 3
   },
   "file_extension": ".py",
   "mimetype": "text/x-python",
   "name": "python",
   "nbconvert_exporter": "python",
   "pygments_lexer": "ipython3",
   "version": "3.7.4"
  }
 },
 "nbformat": 4,
 "nbformat_minor": 4
}

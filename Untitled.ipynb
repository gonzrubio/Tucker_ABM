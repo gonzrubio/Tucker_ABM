{
 "cells": [
  {
   "cell_type": "code",
   "execution_count": 1,
   "metadata": {},
   "outputs": [],
   "source": [
    "import numpy as np\n",
    "import pandas as pd\n",
    "import matplotlib.pyplot as plt\n",
    "import math \n",
    "import random\n",
    "from scipy import optimize\n",
    "from scipy.special import factorial"
   ]
  },
  {
   "cell_type": "code",
   "execution_count": 2,
   "metadata": {},
   "outputs": [],
   "source": [
    "from utils import read_age_gender"
   ]
  },
  {
   "cell_type": "code",
   "execution_count": 3,
   "metadata": {},
   "outputs": [],
   "source": [
    "#fix seed in testing environment\n",
    "# np.random.seed(seed=42) #fix random seed for reproducibility"
   ]
  },
  {
   "cell_type": "code",
   "execution_count": 4,
   "metadata": {},
   "outputs": [],
   "source": [
    "################################ Camp Structure ################################\n",
    "\n",
    "Nb = 8100          # Number of people in isoboxes.\n",
    "mub = 10           # Isoboxes mean occupancy (people).\n",
    "hb = Nb / mub      # Number of isoboxes. \n",
    "iba = 0.5          # Proportion of area covered by isoboxes.\n",
    "\n",
    "Nt = 10600         # Number of people in tents.\n",
    "mut = 4            # Tents occupancy of (people).\n",
    "ht = 10600 / mut   # Number of tents.\n",
    "\n",
    "fblocks = np.array([1,1])   # initial sectoring. Divide camp into (nxn) grid, each with its own food line.\n",
    "N = Nb + Nt                 # Total population.\n",
    "\n",
    "\n",
    "################################ Emperical Age and Sex Distribution ################################\n",
    "age_and_gender = read_age_gender(N)\n",
    "\n",
    "\n",
    "################################ Transmission parameters ################################\n",
    "\n",
    "# Infection\n",
    "twh = 0.5   # Probability of infecting each person in your household per day.\n",
    "aip = 0.1   # Probability of infecting each person you meet per meeting (Fang et al.)\n",
    "tr = 1      # Initial transmission reduction (relative to assumed per contact transmission rate, outside household only).\n",
    "\n",
    "\n",
    "################################ Other parameters ################################\n",
    "\n",
    "\n",
    "siprob = 0        # Probability of spotting symptoms, per person per day.\n",
    "clearday = 7      # Days in quarantine after no virus shedding (i.e., recovery).\n",
    "pac = 0.179       # Permanently asymptomatic cases (Mizumoto et al 2020 Eurosurveillance).\n",
    "ss = 0.20         # Realtive strength of interaction between different ethnicities.\n",
    "\n",
    "\n",
    "################################ Initial movement parameters ################################\n",
    "\n",
    "# Note that the initial assumption is that\n",
    "# everyone uses the larger radius some proportion of the time, which is\n",
    "# __NOT__ the same as assuming that some people always use the larger radius,\n",
    "# Nonetheless, I am setting the proportion equal to the number of males age 10-50 in the population.\n",
    "\n",
    "lr1 = 0.02       # Smaller movement radius. Range around their household during lockdown or females and individuals age < 10.\n",
    "lr2 = 0.1        # Larger movement radius. ie. Pople who violate lockdown enforcement or males over age 10.\n",
    "lrtol = 0.02     # Scale interactions - two people with completely overlapping rages with this radius interact once per day\n",
    "\n"
   ]
  },
  {
   "cell_type": "code",
   "execution_count": 5,
   "metadata": {},
   "outputs": [],
   "source": [
    "from abm import form_population_matrix,place_households,position_toilet,position_foodline,create_ethnic_groups,interaction_neighbours,interaction_neighbours_fast"
   ]
  },
  {
   "cell_type": "code",
   "execution_count": 6,
   "metadata": {},
   "outputs": [],
   "source": [
    "pop_matrix=form_population_matrix(N,hb,Nb,ht,Nt,pac,age_and_gender)"
   ]
  },
  {
   "cell_type": "code",
   "execution_count": 7,
   "metadata": {},
   "outputs": [],
   "source": [
    "hhloc=place_households(pop_matrix[:,0].astype(int),iba,hb)"
   ]
  },
  {
   "cell_type": "code",
   "execution_count": 8,
   "metadata": {},
   "outputs": [],
   "source": [
    "tnum,tshared=position_toilet(hhloc)\n",
    "fnum,fshared=position_foodline(hhloc) "
   ]
  },
  {
   "cell_type": "code",
   "execution_count": 9,
   "metadata": {},
   "outputs": [],
   "source": [
    "ethcor=create_ethnic_groups(hhloc,ss)"
   ]
  },
  {
   "cell_type": "code",
   "execution_count": 10,
   "metadata": {},
   "outputs": [
    {
     "name": "stderr",
     "output_type": "stream",
     "text": [
      "/Users/billyzhaoyh/Desktop/AIforGoodSimulator/Tucker-Model-Data-Viz/abm.py:183: RuntimeWarning: divide by zero encountered in true_divide\n",
      "  angle1=2*np.arccos(np.clip((hhdm**2+lr2**2-lr1**2)/(2*hhdm*lr2),a_min=None,a_max=1)) #nan means no overlap in this case\n",
      "/Users/billyzhaoyh/Desktop/AIforGoodSimulator/Tucker-Model-Data-Viz/abm.py:184: RuntimeWarning: divide by zero encountered in true_divide\n",
      "  angle2=2*np.arccos(np.clip((hhdm**2+lr1**2-lr2**2)/(2*hhdm*lr1),a_min=None,a_max=1)) #nan means no overlap in this case\n",
      "/Users/billyzhaoyh/Desktop/AIforGoodSimulator/Tucker-Model-Data-Viz/abm.py:184: RuntimeWarning: invalid value encountered in arccos\n",
      "  angle2=2*np.arccos(np.clip((hhdm**2+lr1**2-lr2**2)/(2*hhdm*lr1),a_min=None,a_max=1)) #nan means no overlap in this case\n"
     ]
    },
    {
     "name": "stdout",
     "output_type": "stream",
     "text": [
      "CPU times: user 2.37 s, sys: 820 ms, total: 3.19 s\n",
      "Wall time: 3.19 s\n"
     ]
    }
   ],
   "source": [
    "%%time\n",
    "lis=interaction_neighbours(hhloc,lr1,lr2,lrtol,ethcor)"
   ]
  },
  {
   "cell_type": "code",
   "execution_count": 11,
   "metadata": {},
   "outputs": [
    {
     "name": "stderr",
     "output_type": "stream",
     "text": [
      "/Users/billyzhaoyh/Desktop/AIforGoodSimulator/Tucker-Model-Data-Viz/abm.py:199: RuntimeWarning: invalid value encountered in sqrt\n",
      "  area_overlap11=2*(lr1**2*np.arccos(np.clip(0.5*hhdm/lr1,a_min=None,a_max=1))-np.nan_to_num(hhdm/2*np.sqrt(lr1**2-hhdm**2/4)))\n",
      "/Users/billyzhaoyh/Desktop/AIforGoodSimulator/Tucker-Model-Data-Viz/abm.py:202: RuntimeWarning: invalid value encountered in sqrt\n",
      "  area_overlap22=2*(lr2**2*np.arccos(np.clip(hhdm/(2*lr2),a_min=None,a_max=1))-np.nan_to_num(hhdm/2*np.sqrt(lr2**2-hhdm**2/4)))\n",
      "/Users/billyzhaoyh/Desktop/AIforGoodSimulator/Tucker-Model-Data-Viz/abm.py:207: RuntimeWarning: divide by zero encountered in true_divide\n",
      "  -0.5*np.sqrt((-hhdm+lr1+lr2)*(hhdm+lr1-lr2)*(hhdm-lr1+lr2)*(hhdm+lr1+lr2)))\n",
      "/Users/billyzhaoyh/Desktop/AIforGoodSimulator/Tucker-Model-Data-Viz/abm.py:207: RuntimeWarning: invalid value encountered in arccos\n",
      "  -0.5*np.sqrt((-hhdm+lr1+lr2)*(hhdm+lr1-lr2)*(hhdm-lr1+lr2)*(hhdm+lr1+lr2)))\n",
      "/Users/billyzhaoyh/Desktop/AIforGoodSimulator/Tucker-Model-Data-Viz/abm.py:207: RuntimeWarning: invalid value encountered in sqrt\n",
      "  -0.5*np.sqrt((-hhdm+lr1+lr2)*(hhdm+lr1-lr2)*(hhdm-lr1+lr2)*(hhdm+lr1+lr2)))\n"
     ]
    },
    {
     "name": "stdout",
     "output_type": "stream",
     "text": [
      "CPU times: user 2.58 s, sys: 490 ms, total: 3.07 s\n",
      "Wall time: 3.07 s\n"
     ]
    }
   ],
   "source": [
    "%%time\n",
    "lis_fast=interaction_neighbours_fast(hhloc,lr1,lr2,lrtol,ethcor)"
   ]
  },
  {
   "cell_type": "code",
   "execution_count": 12,
   "metadata": {},
   "outputs": [],
   "source": [
    "from numpy.testing import assert_almost_equal"
   ]
  },
  {
   "cell_type": "code",
   "execution_count": 13,
   "metadata": {},
   "outputs": [],
   "source": [
    "assert_almost_equal(lis,lis_fast)"
   ]
  },
  {
   "cell_type": "code",
   "execution_count": null,
   "metadata": {},
   "outputs": [],
   "source": []
  }
 ],
 "metadata": {
  "kernelspec": {
   "display_name": "Python 3",
   "language": "python",
   "name": "python3"
  },
  "language_info": {
   "codemirror_mode": {
    "name": "ipython",
    "version": 3
   },
   "file_extension": ".py",
   "mimetype": "text/x-python",
   "name": "python",
   "nbconvert_exporter": "python",
   "pygments_lexer": "ipython3",
   "version": "3.7.6"
  },
  "widgets": {
   "application/vnd.jupyter.widget-state+json": {
    "state": {},
    "version_major": 2,
    "version_minor": 0
   }
  }
 },
 "nbformat": 4,
 "nbformat_minor": 4
}

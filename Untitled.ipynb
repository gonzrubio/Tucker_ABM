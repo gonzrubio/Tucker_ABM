{
 "cells": [
  {
   "cell_type": "code",
   "execution_count": 1,
   "metadata": {},
   "outputs": [],
   "source": [
    "import numpy as np\n",
    "import pandas as pd\n",
    "import matplotlib.pyplot as plt\n",
    "import math \n",
    "import random\n",
    "from scipy import optimize\n",
    "from scipy.special import factorial"
   ]
  },
  {
   "cell_type": "code",
   "execution_count": 2,
   "metadata": {},
   "outputs": [],
   "source": [
    "from utils import read_age_gender"
   ]
  },
  {
   "cell_type": "code",
   "execution_count": null,
   "metadata": {},
   "outputs": [],
   "source": [
    "#fix seed in testing environment\n",
    "# np.random.seed(seed=42) #fix random seed for reproducibility"
   ]
  },
  {
   "cell_type": "code",
   "execution_count": 4,
   "metadata": {},
   "outputs": [],
   "source": [
    "################################ Camp Structure ################################\n",
    "\n",
    "Nb = 8100          # Number of people in isoboxes.\n",
    "mub = 10           # Isoboxes mean occupancy (people).\n",
    "hb = Nb / mub      # Number of isoboxes. \n",
    "iba = 0.5          # Proportion of area covered by isoboxes.\n",
    "\n",
    "Nt = 10600         # Number of people in tents.\n",
    "mut = 4            # Tents occupancy of (people).\n",
    "ht = 10600 / mut   # Number of tents.\n",
    "\n",
    "fblocks = np.array([1,1])   # initial sectoring. Divide camp into (nxn) grid, each with its own food line.\n",
    "N = Nb + Nt                 # Total population.\n",
    "\n",
    "\n",
    "################################ Emperical Age and Sex Distribution ################################\n",
    "age_and_gender = read_age_gender(N)\n",
    "\n",
    "\n",
    "################################ Transmission parameters ################################\n",
    "\n",
    "# Infection\n",
    "twh = 0.5   # Probability of infecting each person in your household per day.\n",
    "aip = 0.1   # Probability of infecting each person you meet per meeting (Fang et al.)\n",
    "tr = 1      # Initial transmission reduction (relative to assumed per contact transmission rate, outside household only).\n",
    "\n",
    "\n",
    "################################ Other parameters ################################\n",
    "\n",
    "\n",
    "siprob = 0        # Probability of spotting symptoms, per person per day.\n",
    "clearday = 7      # Days in quarantine after no virus shedding (i.e., recovery).\n",
    "pac = 0.179       # Permanently asymptomatic cases (Mizumoto et al 2020 Eurosurveillance).\n",
    "ss = 0.20         # Realtive strength of interaction between different ethnicities.\n",
    "\n",
    "\n",
    "################################ Initial movement parameters ################################\n",
    "\n",
    "# Note that the initial assumption is that\n",
    "# everyone uses the larger radius some proportion of the time, which is\n",
    "# __NOT__ the same as assuming that some people always use the larger radius,\n",
    "# Nonetheless, I am setting the proportion equal to the number of males age 10-50 in the population.\n",
    "\n",
    "lr1 = 0.02       # Smaller movement radius. Range around their household during lockdown or females and individuals age < 10.\n",
    "lr2 = 0.1        # Larger movement radius. ie. Pople who violate lockdown enforcement or males over age 10.\n",
    "lrtol = 0.02     # Scale interactions - two people with completely overlapping rages with this radius interact once per day\n",
    "\n"
   ]
  },
  {
   "cell_type": "code",
   "execution_count": 9,
   "metadata": {},
   "outputs": [],
   "source": [
    "from abm import form_population_matrix,place_households,position_toilet,position_foodline,create_ethnic_groups"
   ]
  },
  {
   "cell_type": "code",
   "execution_count": 10,
   "metadata": {},
   "outputs": [],
   "source": [
    "pop_matrix=form_population_matrix(N,hb,Nb,ht,Nt,pac,age_and_gender)"
   ]
  },
  {
   "cell_type": "code",
   "execution_count": 11,
   "metadata": {},
   "outputs": [],
   "source": [
    "hhloc=place_households(pop_matrix[:,0].astype(int),iba,hb)"
   ]
  },
  {
   "cell_type": "code",
   "execution_count": 13,
   "metadata": {},
   "outputs": [],
   "source": [
    "tnum,tshared=position_toilet(hhloc)\n",
    "fnum,fshared=position_foodline(hhloc) "
   ]
  },
  {
   "cell_type": "code",
   "execution_count": 14,
   "metadata": {},
   "outputs": [],
   "source": [
    "ethcor=create_ethnic_groups(hhloc,ss)"
   ]
  },
  {
   "cell_type": "code",
   "execution_count": 17,
   "metadata": {},
   "outputs": [
    {
     "data": {
      "text/plain": [
       "array([0.51349988, 0.72280368, 0.47214018, ..., 0.00761454, 0.70354063,\n",
       "       0.21884793])"
      ]
     },
     "execution_count": 17,
     "metadata": {},
     "output_type": "execute_result"
    }
   ],
   "source": [
    "hhloc[:,0]"
   ]
  },
  {
   "cell_type": "code",
   "execution_count": 18,
   "metadata": {},
   "outputs": [],
   "source": [
    "hhdm_x=(np.tile(hhloc[:,0],(hhloc.shape[0],1)).T - np.tile(hhloc[:,0],(hhloc.shape[0],1)))**2\n",
    "hhdm_y=(np.tile(hhloc[:,1],(hhloc.shape[0],1)).T - np.tile(hhloc[:,1],(hhloc.shape[0],1)))**2\n",
    "hhdm=np.sqrt(hhdm_x+hhdm_y)\n"
   ]
  },
  {
   "cell_type": "code",
   "execution_count": null,
   "metadata": {},
   "outputs": [],
   "source": [
    "lr1 = 0.02       # Smaller movement radius. Range around their household during lockdown or females and individuals age < 10.\n",
    "lr2 = 0.1        # Larger movement radius. ie. Pople who violate lockdown enforcement or males over age 10."
   ]
  },
  {
   "cell_type": "code",
   "execution_count": null,
   "metadata": {},
   "outputs": [],
   "source": [
    "# 2) Compute interaction rates among households.\n",
    "# Distance matrix between households.\n",
    "hhdm = np.sqrt((np.tile(hhloc[:,0],(hhloc.shape[0],1)).T - np.tile(hhloc[:,0],(hhloc.shape[0],1)))**2 + \n",
    "               (np.tile(hhloc[:,1],(hhloc.shape[0],1)).T - np.tile(hhloc[:,1],(hhloc.shape[0],1)))**2)  \n",
    "\n",
    "# 3) Compute the lens of shared area between households, scaled for the density\n",
    "# with which individuals occupy that lens (which decreases in proportion to\n",
    "# the area of the lens. Here, poeij is the density overlap between\n",
    "# individuals using radii i and j, respectively (but poeij=poeji).    \n",
    "\n",
    "poe11 = np.nan_to_num(np.real(2*lr1**2*np.arccos(hhdm/(2*lr1)) -\n",
    "                np.multiply(0.5*hhdm,np.sqrt(np.multiply((2*lr1-hhdm),(2*lr1+hhdm))))) / (math.pi**2*lr1**4))\n",
    "poe22 = np.nan_to_num(np.real(2*lr2**2*np.arccos(hhdm/(2*lr2)) -\n",
    "                np.multiply(0.5*hhdm,np.sqrt(np.multiply((2*lr2-hhdm),(2*lr2+hhdm))))) / (math.pi**2*lr2**4))\n",
    "poe12 = np.real(lr1**2*np.arccos( (hhdm**2+lr1**2-lr2**2) / 2*hhdm*lr1 ) +\n",
    "                lr2**2*np.arccos( (hhdm**2+lr2**2-lr1**2) / 2*hhdm*lr2 ) -\n",
    "                np.multiply(np.multiply(-hhdm+lr1+lr2,hhdm+lr1-lr2),np.multiply(hhdm-lr1+lr2,hhdm+lr1+lr2)))    \n",
    "poe12 = poe12 / (math.pi**2*lr2**2*lr1**2)\n",
    "np.fill_diagonal(poe12,0)\n",
    "\n",
    "# Scale to standard by which 2 people occupying the same circle with radius\n",
    "# lrtol have one interaction per day. Store in a 3-D array.    \n",
    "lis = np.multiply(math.pi*lrtol**2*np.dstack((poe11,poe12,poe22)),np.dstack((ethcor,ethcor,ethcor)))"
   ]
  },
  {
   "cell_type": "code",
   "execution_count": 22,
   "metadata": {},
   "outputs": [
    {
     "name": "stderr",
     "output_type": "stream",
     "text": [
      "/Users/billyzhaoyh/anaconda/envs/aihack/lib/python3.7/site-packages/ipykernel_launcher.py:28: RuntimeWarning: invalid value encountered in arccos\n",
      "/Users/billyzhaoyh/anaconda/envs/aihack/lib/python3.7/site-packages/ipykernel_launcher.py:29: RuntimeWarning: invalid value encountered in sqrt\n",
      "/Users/billyzhaoyh/anaconda/envs/aihack/lib/python3.7/site-packages/ipykernel_launcher.py:30: RuntimeWarning: invalid value encountered in arccos\n",
      "/Users/billyzhaoyh/anaconda/envs/aihack/lib/python3.7/site-packages/ipykernel_launcher.py:31: RuntimeWarning: invalid value encountered in sqrt\n"
     ]
    }
   ],
   "source": [
    "################################ Create interaction rates ################################\n",
    "\n",
    "def make_obs_180420(fblocks,lr1,lr2,N,hhloc,maxhh,lrtol,ethcor):\n",
    "    '''\n",
    "    fshared: matrix that indictes whether two households use the same food distribution center.\n",
    "    lis: matrix that holds local interacton stregth between members of different households.\n",
    "    tl: probability of transmission per local interaction\n",
    "    tt: probability of transmission per regional interaction (i.e., 3x daily toilet visits,\n",
    "    from either person before or person after)\n",
    "    tg: probability of transmission per global interaction (i.e., 3x daily food lines, from either person before or \n",
    "    person after, but only 1/4 of people go to the food line each time to  collect for household).\n",
    "    '''\n",
    "    # fgroups = np.prod([fblocks]) # Number of feeding groups.\n",
    "    # fu = N/fgroups # Individuals per feeding group.\n",
    "    \n",
    "    # 1) Assign households to feeding blocks. Make matrix of shared feeding blocks at the household level.\n",
    "    [fnum,fshared] = position_foodline(hhloc) \n",
    "    \n",
    "    # 2) Compute interaction rates among households.\n",
    "    # Distance matrix between households.\n",
    "    hhdm = np.sqrt((np.tile(hhloc[:,0],(hhloc.shape[0],1)).T - np.tile(hhloc[:,0],(hhloc.shape[0],1)))**2 + \n",
    "                   (np.tile(hhloc[:,1],(hhloc.shape[0],1)).T - np.tile(hhloc[:,1],(hhloc.shape[0],1)))**2)  \n",
    "    \n",
    "    # 3) Compute the lens of shared area between households, scaled for the density\n",
    "    # with which individuals occupy that lens (which decreases in proportion to\n",
    "    # the area of the lens. Here, poeij is the density overlap between\n",
    "    # individuals using radii i and j, respectively (but poeij=poeji).    \n",
    "    poe11 = np.nan_to_num(np.real(2*lr1**2*np.arccos(hhdm/(2*lr1)) -\n",
    "                    np.multiply(0.5*hhdm,np.sqrt(np.multiply((2*lr1-hhdm),(2*lr1+hhdm))))) / (math.pi**2*lr1**4))\n",
    "    poe22 = np.nan_to_num(np.real(2*lr2**2*np.arccos(hhdm/(2*lr2)) -\n",
    "                    np.multiply(0.5*hhdm,np.sqrt(np.multiply((2*lr2-hhdm),(2*lr2+hhdm))))) / (math.pi**2*lr2**4))\n",
    "    poe12 = np.real(lr1**2*np.arccos( (hhdm**2+lr1**2-lr2**2) / 2*hhdm*lr1 ) +\n",
    "                    lr2**2*np.arccos( (hhdm**2+lr2**2-lr1**2) / 2*hhdm*lr2 ) -\n",
    "                    np.multiply(np.multiply(-hhdm+lr1+lr2,hhdm+lr1-lr2),np.multiply(hhdm-lr1+lr2,hhdm+lr1+lr2)))    \n",
    "    poe12 = poe12 / (math.pi**2*lr2**2*lr1**2)\n",
    "    np.fill_diagonal(poe12,0)\n",
    "    \n",
    "    # Scale to standard by which 2 people occupying the same circle with radius\n",
    "    # lrtol have one interaction per day. Store in a 3-D array.    \n",
    "    lis = np.multiply(math.pi*lrtol**2*np.dstack((poe11,poe12,poe22)),np.dstack((ethcor,ethcor,ethcor)))\n",
    "    \n",
    "    # % %SET LOCAL REGIONAL AND GLOBAL TRANSMISSION PROBABILITIES. This computes\n",
    "    # % %the probability of transmission per encounter times the number of\n",
    "    # % %encounters between individuals per day\n",
    "    # % tl=aip*tr;                  %local\n",
    "    # % tt=aip*tr*(2*3)/tu;         %toilet - assume possible transmission to person before or after\n",
    "    # %                             %in line, 3 times per day\n",
    "    # % tg=aip*tr*(2*3*(1/4))/fu;   %global - assume possible transmission to person before or after\n",
    "    # %                             %in line, 3 times per day, but 1/4 of people go    \n",
    "    \n",
    "    return fshared, lis\n",
    "\n",
    "\n",
    "fshared, lis = make_obs_180420(fblocks,lr1,lr2,N,hhloc,hhloc.shape[0],lrtol,ethcor)"
   ]
  },
  {
   "cell_type": "code",
   "execution_count": null,
   "metadata": {},
   "outputs": [],
   "source": []
  }
 ],
 "metadata": {
  "kernelspec": {
   "display_name": "Python 3",
   "language": "python",
   "name": "python3"
  },
  "language_info": {
   "codemirror_mode": {
    "name": "ipython",
    "version": 3
   },
   "file_extension": ".py",
   "mimetype": "text/x-python",
   "name": "python",
   "nbconvert_exporter": "python",
   "pygments_lexer": "ipython3",
   "version": "3.7.6"
  },
  "widgets": {
   "application/vnd.jupyter.widget-state+json": {
    "state": {},
    "version_major": 2,
    "version_minor": 0
   }
  }
 },
 "nbformat": 4,
 "nbformat_minor": 4
}

{
 "cells": [
  {
   "cell_type": "code",
   "execution_count": 1,
   "metadata": {},
   "outputs": [],
   "source": [
    "import numpy as np\n",
    "import pandas as pd\n",
    "import matplotlib.pyplot as plt\n",
    "import math \n",
    "import random\n",
    "from scipy import optimize\n",
    "from scipy.special import factorial"
   ]
  },
  {
   "cell_type": "code",
   "execution_count": 2,
   "metadata": {},
   "outputs": [],
   "source": [
    "from utils import read_age_gender"
   ]
  },
  {
   "cell_type": "code",
   "execution_count": 3,
   "metadata": {},
   "outputs": [],
   "source": [
    "#fix seed in testing environment\n",
    "# np.random.seed(seed=42) #fix random seed for reproducibility"
   ]
  },
  {
   "cell_type": "code",
   "execution_count": 4,
   "metadata": {},
   "outputs": [],
   "source": [
    "################################ Camp Structure ################################\n",
    "\n",
    "Nb = 8100          # Number of people in isoboxes.\n",
    "mub = 10           # Isoboxes mean occupancy (people).\n",
    "hb = Nb / mub      # Number of isoboxes. \n",
    "iba = 0.5          # Proportion of area covered by isoboxes.\n",
    "\n",
    "Nt = 10600         # Number of people in tents.\n",
    "mut = 4            # Tents occupancy of (people).\n",
    "ht = 10600 / mut   # Number of tents.\n",
    "\n",
    "fblocks = np.array([1,1])   # initial sectoring. Divide camp into (nxn) grid, each with its own food line.\n",
    "N = Nb + Nt                 # Total population.\n",
    "\n",
    "\n",
    "################################ Emperical Age and Sex Distribution ################################\n",
    "age_and_gender = read_age_gender(N)\n",
    "\n",
    "\n",
    "################################ Transmission parameters ################################\n",
    "\n",
    "# Infection\n",
    "twh = 0.5   # Probability of infecting each person in your household per day.\n",
    "aip = 0.1   # Probability of infecting each person you meet per meeting (Fang et al.)\n",
    "tr = 1      # Initial transmission reduction (relative to assumed per contact transmission rate, outside household only).\n",
    "\n",
    "\n",
    "################################ Other parameters ################################\n",
    "\n",
    "\n",
    "siprob = 0        # Probability of spotting symptoms, per person per day.\n",
    "clearday = 7      # Days in quarantine after no virus shedding (i.e., recovery).\n",
    "pac = 0.179       # Permanently asymptomatic cases (Mizumoto et al 2020 Eurosurveillance).\n",
    "ss = 0.20         # Realtive strength of interaction between different ethnicities.\n",
    "\n",
    "\n",
    "################################ Initial movement parameters ################################\n",
    "\n",
    "# Note that the initial assumption is that\n",
    "# everyone uses the larger radius some proportion of the time, which is\n",
    "# __NOT__ the same as assuming that some people always use the larger radius,\n",
    "# Nonetheless, I am setting the proportion equal to the number of males age 10-50 in the population.\n",
    "\n",
    "lr1 = 0.02       # Smaller movement radius. Range around their household during lockdown or females and individuals age < 10.\n",
    "lr2 = 0.1        # Larger movement radius. ie. Pople who violate lockdown enforcement or males over age 10.\n",
    "lrtol = 0.02     # Scale interactions - two people with completely overlapping rages with this radius interact once per day\n",
    "\n"
   ]
  },
  {
   "cell_type": "code",
   "execution_count": 5,
   "metadata": {},
   "outputs": [],
   "source": [
    "from abm import form_population_matrix"
   ]
  },
  {
   "cell_type": "code",
   "execution_count": 6,
   "metadata": {},
   "outputs": [],
   "source": [
    "pop_matrix=form_population_matrix(N,hb,Nb,ht,Nt,pac,age_and_gender)"
   ]
  },
  {
   "cell_type": "code",
   "execution_count": 64,
   "metadata": {},
   "outputs": [],
   "source": [
    "#col1\n",
    "def create_household_column(num_hh_type1,num_ppl_type1,num_hh_type2,num_ppl_type2):\n",
    "    ppl_hh_index_draw= np.concatenate((np.ceil(num_hh_type1*np.random.uniform(0,1,num_ppl_type1)), \n",
    "                       num_hh_type1+np.ceil(num_hh_type2*np.random.uniform(0,1,num_ppl_type2)))) \n",
    "    hh_index,ppl_to_hh_index = np.unique(ppl_hh_index_draw, return_inverse=True)  # ui - indices from the unique sorted array that would reconstruct rN\n",
    "    assert hh_index[ppl_to_hh_index].all() == ppl_hh_index_draw.all()\n",
    "    return np.sort(ppl_to_hh_index)\n",
    "household_column=create_household_column(hb,Nb,ht,Nt)"
   ]
  },
  {
   "cell_type": "code",
   "execution_count": 37,
   "metadata": {},
   "outputs": [],
   "source": [
    "#col2\n",
    "def create_diseasestate_column(num_ppl,seed=1):\n",
    "    initial_diseasestate=np.zeros(num_ppl)\n",
    "    initial_diseasestate[np.random.choice(num_ppl, seed)] = 1\n",
    "    return initial_diseasestate\n",
    "disease_column=create_diseasestate_column(N)"
   ]
  },
  {
   "cell_type": "code",
   "execution_count": 38,
   "metadata": {},
   "outputs": [],
   "source": [
    "#col3\n",
    "def create_daystosymptoms_column(num_ppl):\n",
    "    #weibull distribution parameters following (Backer et al. 2020 Eurosurveillance)\n",
    "    k = (2.3/6.4)**(-1.086)\n",
    "    L = 6.4 / (math.gamma(1 + 1/k))\n",
    "    return np.array([random.weibullvariate(L,k) for ppl in np.arange(num_ppl)])\n",
    "dsymptom_column=create_daystosymptoms_column(N)"
   ]
  },
  {
   "cell_type": "code",
   "execution_count": 39,
   "metadata": {},
   "outputs": [],
   "source": [
    "#col4\n",
    "def create_daycount_column(num_ppl):\n",
    "    return np.zeros(num_ppl)\n",
    "daycount_column=create_daycount_column(N)"
   ]
  },
  {
   "cell_type": "code",
   "execution_count": 40,
   "metadata": {},
   "outputs": [],
   "source": [
    "#col5\n",
    "def create_asymp_column(num_ppl,asymp_rate,age_column=None,num_ppl_chro=300):\n",
    "    \"\"\"\n",
    "    num_ppl_pre: number of people with chronic diseases (pre-exisitng medical conditions) meaning they won't be asymptomatically infected\n",
    "    \"\"\"\n",
    "    if age_column is not None:\n",
    "        pass\n",
    "    else:\n",
    "        return np.random.uniform(0,1,N)<asymp_rate*(N/(N-num_ppl_chro))\n",
    "asymp_column=create_asymp_column(N,pac)\n"
   ]
  },
  {
   "cell_type": "code",
   "execution_count": 41,
   "metadata": {},
   "outputs": [
    {
     "data": {
      "text/plain": [
       "3482"
      ]
     },
     "execution_count": 41,
     "metadata": {},
     "output_type": "execute_result"
    }
   ],
   "source": [
    "sum(asymp_column)"
   ]
  },
  {
   "cell_type": "code",
   "execution_count": 42,
   "metadata": {},
   "outputs": [],
   "source": [
    "#col6-7 this might be unique to different camps\n",
    "def create_age_column(age_data):\n",
    "    return age_data\n",
    "def create_gender_column(gender_data):\n",
    "    return gender_data\n",
    "age_column=create_age_column(age_and_gender[:,0])\n",
    "gender_column=create_gender_column(age_and_gender[:,1])"
   ]
  },
  {
   "cell_type": "code",
   "execution_count": 43,
   "metadata": {},
   "outputs": [],
   "source": [
    "#column8 might be unique to different camps this requires fitting a regression to age and chronic conditions\n",
    "def create_chronic_column(num_ppl,age_column,num_ppl_chro=300):\n",
    "    myfunction = lambda x: np.absolute(num_ppl_chro-np.sum((1+np.exp(-(x-11.69+.2191*age_column-0.001461*age_column**2))**(-1))))-num_ppl\n",
    "    xopt = optimize.fsolve(myfunction, x0=[2])\n",
    "    rchron = (1+np.exp(-(xopt-11.69+.2191*age_column-0.001461*age_column**2)))**(-1)\n",
    "    chroncases = (np.random.uniform(np.min(rchron),1,num_ppl) < rchron)\n",
    "    return chroncases\n",
    "chronic_column=create_chronic_column(N,age_column)\n",
    "    "
   ]
  },
  {
   "cell_type": "code",
   "execution_count": 44,
   "metadata": {},
   "outputs": [],
   "source": [
    "def adjust_asymp_with_chronic(asymp_column,chronic_column):\n",
    "    new_asymp_column=asymp_column.copy()\n",
    "    new_asymp_column[chronic_column==1]=0\n",
    "    return new_asymp_column\n",
    "new_asymp_column=adjust_asymp_with_chronic(asymp_column,chronic_column)"
   ]
  },
  {
   "cell_type": "code",
   "execution_count": 45,
   "metadata": {},
   "outputs": [
    {
     "data": {
      "text/plain": [
       "3433"
      ]
     },
     "execution_count": 45,
     "metadata": {},
     "output_type": "execute_result"
    }
   ],
   "source": [
    "sum(new_asymp_column)"
   ]
  },
  {
   "cell_type": "code",
   "execution_count": 46,
   "metadata": {},
   "outputs": [
    {
     "data": {
      "text/plain": [
       "array([[False,  True,  True, ..., False, False, False]])"
      ]
     },
     "execution_count": 46,
     "metadata": {},
     "output_type": "execute_result"
    }
   ],
   "source": [
    "np.logical_and([gender_column==1], [age_column>=10])"
   ]
  },
  {
   "cell_type": "code",
   "execution_count": 50,
   "metadata": {},
   "outputs": [],
   "source": [
    "def create_wanderer_column(gender_column,age_column):\n",
    "    \"\"\"\n",
    "    Male of age greater than 10 are the wanderers in the camp\n",
    "    \"\"\"\n",
    "    return np.logical_and([gender_column==1], [age_column>=10]).transpose()\n",
    "wanderer_column=create_wanderer_column(gender_column,age_column)"
   ]
  },
  {
   "cell_type": "code",
   "execution_count": 65,
   "metadata": {},
   "outputs": [],
   "source": [
    "pop_matrix=np.column_stack((household_column,disease_column,dsymptom_column,daycount_column,new_asymp_column,age_column,gender_column,chronic_column,wanderer_column))"
   ]
  },
  {
   "cell_type": "code",
   "execution_count": 87,
   "metadata": {},
   "outputs": [],
   "source": [
    "assert pop_matrix.shape==(N, 9)"
   ]
  },
  {
   "cell_type": "code",
   "execution_count": null,
   "metadata": {},
   "outputs": [],
   "source": []
  },
  {
   "cell_type": "code",
   "execution_count": 55,
   "metadata": {},
   "outputs": [
    {
     "name": "stdout",
     "output_type": "stream",
     "text": [
      "[1.55266208]\n"
     ]
    }
   ],
   "source": [
    "################################ Create population matrix (pop) ################################\n",
    "\n",
    "# Columns:\n",
    "# 0. Home number\n",
    "# 1. Disease state: 0 = susceptible, 1 = exposed, 2 = presymptomatic, 3 = symptomatic, 4 = mild, 5 = severe, 6 = recovered. Similar states in quarentine are the same plus seven. In other words, this is a categorical variable with values between 0 and 13 inclusive.\n",
    "# 2. Days to symptoms for this person\n",
    "# 3. Days passed in current state\n",
    "# 4. Whether this person will be asymptomatic\n",
    "# 5. Age\n",
    "# 6. Male: = 1 if male.\n",
    "# 7. Chronic: = 1 if chronic disease?\n",
    "# 8. Wanderer (Uses the larger radius).\n",
    "# \n",
    "# pop is $N \\times 9$\n",
    "\n",
    "#  #### Columns 0-1 (House number and disease state)\n",
    "# \n",
    "# - Randomly assign each person to a household (rN).\n",
    "# - Draw a sample from uniform distribution between 1-810 (hb). Meaning we chose a random isobox.\n",
    "# - Then repeat that 8100 (Nb) times. AKA assign each person to an isobox.\n",
    "# - Do the same for the tent group.\n",
    "# - Indices (ui) of the unique array that reconstruct the input array (rN).\n",
    "# - The number of inidces should equal total population (N).\n",
    "# - Note: Household column is not the huse itself but the index of that house hold.\n",
    "# - Start each person as susceptible (col 1 = 0).\n",
    "# - Randomly assign one person to be exposed to the virus (pop[someindex,1]=1).\n",
    "\n",
    "rN = np.concatenate((np.ceil(hb*np.random.uniform(0,1,Nb)), hb+np.ceil(ht*np.random.uniform(0,1,Nt)))) \n",
    "U,ui = np.unique(rN, return_inverse=True)  # ui - indices from the unique sorted array that would reconstruct rN\n",
    "assert U[ui].all() == rN.all()\n",
    "\n",
    "pop_2 = np.column_stack((np.sort(ui), np.zeros((ui.shape)))) # Size N x 2 (18700 x 2).\n",
    "assert pop_2.shape==(18700, 2)\n",
    "\n",
    "pop_2[np.random.randint(0,N),1] = 1\n",
    "\n",
    "\n",
    "# #### Columns 2-4 (symptoms)\n",
    "# - Col 2: Days to first symptoms (if they develop symptoms) for each person, following (Backer et al. 2020 Eurosurveillance)\n",
    "# - Col 3: Days passed in current state, 0 for now.\n",
    "# - Col 4: Whether this person will be asymptomatic.\n",
    "\n",
    "k = (2.3/6.4)**(-1.086)\n",
    "L = 6.4 / (math.gamma(1 + 1/k))\n",
    "pop_5 = np.column_stack((pop_2,\n",
    "                         np.array([random.weibullvariate(L,k) for sample in np.arange(N)]),\n",
    "                         np.zeros((N,1)), np.random.uniform(0,1,N)<pac*(N/(N-300))))\n",
    "\n",
    "assert pop_5.shape==(18700, 5)\n",
    "\n",
    "\n",
    "# #### Columns 5-6 (Age and sex)\n",
    "# - Get N random samples from the distribution in the observed data with repetition.\n",
    "# - Assign age and sex following the observed distribution in the camp.\n",
    "# \n",
    "# I believe I treated the age and sex distributions as separate whereas I think I should treat\n",
    "# the age and sex for a give individual together (if that makes sense?).\n",
    "# i.e. I got the sex and age samples on their own where as the original Matlab code gets them\n",
    "# from the age-sex pairs: age_and_sex(randsample(size(age_and_sex,1),N,true),:)\n",
    "# \n",
    "# However, the distributions seem equal in the original program and here.\n",
    "# \n",
    "# Billy: I have editted here by drawing samples from rows \n",
    "\n",
    "\n",
    "\n",
    "pop_7 = np.column_stack((pop_5,\n",
    "                       age_and_gender[:,0],\n",
    "                       age_and_gender[:,1]))\n",
    "assert pop_7.shape==(18700, 7)\n",
    "\n",
    "\n",
    "# #### Column 7-8 (Chronic States and wanderers)\n",
    "# - Matching the relationship between age and chronic states in the data.\n",
    "# - Males over the age of ten are wanderers.\n",
    "# \n",
    "# There is a bug somewhere in the lambda function that makes the minimum (xopt) is too small compared to the original program (~1.62) which causes (rchron) to be 1 for all individuals ... which then makes the asymptomatic column all equal to zero.\n",
    "# \n",
    "# Would it be sensible to put an upper limit on the age when defining wanderers? ie. 10 < age < 60\n",
    "# \n",
    "# Billy: I am guessing the original equation is trying to find the xopt that makes myfunction-N equals to 0 according to the plot below because otherwise fmin will take the value xopt way to the left. But yeah I am confused in how this equation is produced here - we are aiming to assing 300 people or so with chronic conditions right?\n",
    "# \n",
    "# Gonzalo: Fixed. We get ~300 counts.\n",
    "\n",
    "\n",
    "myfunction = lambda x: np.absolute(300-np.sum((1+np.exp(-(x-11.69+.2191*pop_7[:,5]-0.001461*pop_7[:,5]**2))**(-1))))-N\n",
    "xopt = optimize.fsolve(myfunction, x0=[2])\n",
    "print(xopt)\n",
    "\n",
    "x_s = np.linspace(-5, 5, 201)\n",
    "y = [myfunction(x) for x in x_s]\n",
    "\n",
    "rchron = (1+np.exp(-(xopt-11.69+.2191*pop_7[:,5]-0.001461*pop_7[:,5]**2)))**(-1)\n",
    "chroncases = (np.random.uniform(np.min(rchron),1,N) < rchron) \n",
    "\n",
    "pop_8 = np.column_stack( (pop_7, chroncases))\n",
    "assert pop_8.shape==(18700, 8)\n",
    "\n",
    "# Ensure that people with chronic conditions are not asymptomatic, and correct number of asymptomatics above.\n",
    "# In other words, if chronic conditions = 1 then not asymptomatic.\n",
    "pop_8[ pop_8[:,7] == 1,4 ] = 0 \n",
    "pop_9 = np.column_stack( (pop_8, np.logical_and([pop_8[:,6] == 1], [10 <= pop_8[:,5]]).transpose() ) ) # Wanderers\n",
    "assert pop_9.shape==(18700, 9)"
   ]
  },
  {
   "cell_type": "code",
   "execution_count": null,
   "metadata": {},
   "outputs": [],
   "source": []
  }
 ],
 "metadata": {
  "kernelspec": {
   "display_name": "Python 3",
   "language": "python",
   "name": "python3"
  },
  "language_info": {
   "codemirror_mode": {
    "name": "ipython",
    "version": 3
   },
   "file_extension": ".py",
   "mimetype": "text/x-python",
   "name": "python",
   "nbconvert_exporter": "python",
   "pygments_lexer": "ipython3",
   "version": "3.7.6"
  },
  "widgets": {
   "application/vnd.jupyter.widget-state+json": {
    "state": {},
    "version_major": 2,
    "version_minor": 0
   }
  }
 },
 "nbformat": 4,
 "nbformat_minor": 4
}

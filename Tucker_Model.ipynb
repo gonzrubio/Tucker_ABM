{
 "cells": [
  {
   "cell_type": "code",
   "execution_count": 2,
   "metadata": {},
   "outputs": [],
   "source": [
    "import numpy as np\n",
    "import pandas as pd\n",
    "import matplotlib.pyplot as plt\n",
    "import math \n",
    "import random\n",
    "\n",
    "from abm import *"
   ]
  },
  {
   "cell_type": "code",
   "execution_count": 3,
   "metadata": {},
   "outputs": [],
   "source": [
    "# from utils import read_age_gender"
   ]
  },
  {
   "cell_type": "code",
   "execution_count": 4,
   "metadata": {},
   "outputs": [],
   "source": [
    "#fix seed in testing environment\n",
    "# np.random.seed(seed=42) #fix random seed for reproducibility"
   ]
  },
  {
   "cell_type": "code",
   "execution_count": 5,
   "metadata": {},
   "outputs": [],
   "source": [
    "################################ Camp Structure ################################\n",
    "\n",
    "Nb = 8100          # Number of people in isoboxes.\n",
    "mub = 10           # Isoboxes mean occupancy (people).\n",
    "hb = Nb / mub      # Number of isoboxes. \n",
    "iba = 0.5          # Proportion of area covered by isoboxes.\n",
    "\n",
    "Nt = 10600         # Number of people in tents.\n",
    "mut = 4            # Tents occupancy of (people).\n",
    "ht = 10600 / mut   # Number of tents.\n",
    "\n",
    "fblocks = np.array([1,1])   # initial sectoring. Divide camp into (nxn) grid, each with its own food line.\n",
    "N = Nb + Nt                 # Total population.\n",
    "\n",
    "\n",
    "################################ Emperical Age and Sex Distribution ################################\n",
    "age_and_gender = read_age_gender(N)\n",
    "\n",
    "\n",
    "################################ Transmission parameters ################################\n",
    "\n",
    "# Infection\n",
    "twh = 0.5   # Probability of infecting each person in your household per day.\n",
    "aip = 0.1   # Probability of infecting each person you meet per meeting (Fang et al.)\n",
    "tr = 1      # Initial transmission reduction (relative to assumed per contact transmission rate, outside household only).\n",
    "\n",
    "\n",
    "################################ Other parameters ################################\n",
    "\n",
    "\n",
    "siprob = 0.5        # Probability of spotting symptoms, per person per day.\n",
    "clearday = 7      # Days in quarantine after no virus shedding (i.e., recovery).\n",
    "pac = 0.179       # Permanently asymptomatic cases (Mizumoto et al 2020 Eurosurveillance).\n",
    "ss = 0.20         # Realtive strength of interaction between different ethnicities.\n",
    "\n",
    "\n",
    "################################ Initial movement parameters ################################\n",
    "\n",
    "# Note that the initial assumption is that\n",
    "# everyone uses the larger radius some proportion of the time, which is\n",
    "# __NOT__ the same as assuming that some people always use the larger radius,\n",
    "# Nonetheless, I am setting the proportion equal to the number of males age 10-50 in the population.\n",
    "\n",
    "lr1 = 0.02       # Smaller movement radius. Range around their household during lockdown or females and individuals age < 10.\n",
    "lr2 = 0.1        # Larger movement radius. ie. Pople who violate lockdown enforcement or males over age 10.\n",
    "lrtol = 0.02     # Scale interactions - two people with completely overlapping rages with this radius interact once per day\n",
    "\n",
    "num_toilet_visit=3\n",
    "num_toilet_contact=2\n",
    "num_food_visit=1\n",
    "num_food_contact=2\n",
    "pct_food_visit=3/4"
   ]
  },
  {
   "cell_type": "code",
   "execution_count": 6,
   "metadata": {},
   "outputs": [],
   "source": [
    "# from abm import *"
   ]
  },
  {
   "cell_type": "code",
   "execution_count": 7,
   "metadata": {},
   "outputs": [],
   "source": [
    "pop_matrix=form_population_matrix(N,hb,Nb,ht,Nt,pac,age_and_gender)"
   ]
  },
  {
   "cell_type": "code",
   "execution_count": 8,
   "metadata": {},
   "outputs": [],
   "source": [
    "hhloc=place_households(pop_matrix[:,0].astype(int),iba,hb)"
   ]
  },
  {
   "cell_type": "code",
   "execution_count": 9,
   "metadata": {},
   "outputs": [],
   "source": [
    "tnum,tshared=position_toilet(hhloc)\n",
    "fnum,fshared=position_foodline(hhloc) "
   ]
  },
  {
   "cell_type": "code",
   "execution_count": 10,
   "metadata": {},
   "outputs": [],
   "source": [
    "ethcor=create_ethnic_groups(hhloc,ss)"
   ]
  },
  {
   "cell_type": "code",
   "execution_count": 11,
   "metadata": {},
   "outputs": [
    {
     "name": "stderr",
     "output_type": "stream",
     "text": [
      "C:\\Users\\Gonzalo\\Documents\\AIforGood\\ABM\\Tucker\\abm.py:193: RuntimeWarning: divide by zero encountered in true_divide\n",
      "  angle1=2*np.arccos(np.clip((hhdm**2+lr2**2-lr1**2)/(2*hhdm*lr2),a_min=None,a_max=1)) #nan means no overlap in this case\n",
      "C:\\Users\\Gonzalo\\Documents\\AIforGood\\ABM\\Tucker\\abm.py:194: RuntimeWarning: divide by zero encountered in true_divide\n",
      "  angle2=2*np.arccos(np.clip((hhdm**2+lr1**2-lr2**2)/(2*hhdm*lr1),a_min=None,a_max=1)) #nan means no overlap in this case\n",
      "C:\\Users\\Gonzalo\\Documents\\AIforGood\\ABM\\Tucker\\abm.py:194: RuntimeWarning: invalid value encountered in arccos\n",
      "  angle2=2*np.arccos(np.clip((hhdm**2+lr1**2-lr2**2)/(2*hhdm*lr1),a_min=None,a_max=1)) #nan means no overlap in this case\n"
     ]
    },
    {
     "name": "stdout",
     "output_type": "stream",
     "text": [
      "Wall time: 6.65 s\n"
     ]
    }
   ],
   "source": [
    "%%time\n",
    "lis=interaction_neighbours(hhloc,lr1,lr2,lrtol,ethcor)"
   ]
  },
  {
   "cell_type": "code",
   "execution_count": 12,
   "metadata": {},
   "outputs": [
    {
     "name": "stderr",
     "output_type": "stream",
     "text": [
      "C:\\Users\\Gonzalo\\Documents\\AIforGood\\ABM\\Tucker\\abm.py:209: RuntimeWarning: invalid value encountered in sqrt\n",
      "  area_overlap11=2*(lr1**2*np.arccos(np.clip(0.5*hhdm/lr1,a_min=None,a_max=1))-np.nan_to_num(hhdm/2*np.sqrt(lr1**2-hhdm**2/4)))\n",
      "C:\\Users\\Gonzalo\\Documents\\AIforGood\\ABM\\Tucker\\abm.py:212: RuntimeWarning: invalid value encountered in sqrt\n",
      "  area_overlap22=2*(lr2**2*np.arccos(np.clip(hhdm/(2*lr2),a_min=None,a_max=1))-np.nan_to_num(hhdm/2*np.sqrt(lr2**2-hhdm**2/4)))\n",
      "C:\\Users\\Gonzalo\\Documents\\AIforGood\\ABM\\Tucker\\abm.py:217: RuntimeWarning: divide by zero encountered in true_divide\n",
      "  -0.5*np.sqrt((-hhdm+lr1+lr2)*(hhdm+lr1-lr2)*(hhdm-lr1+lr2)*(hhdm+lr1+lr2)))\n",
      "C:\\Users\\Gonzalo\\Documents\\AIforGood\\ABM\\Tucker\\abm.py:217: RuntimeWarning: invalid value encountered in arccos\n",
      "  -0.5*np.sqrt((-hhdm+lr1+lr2)*(hhdm+lr1-lr2)*(hhdm-lr1+lr2)*(hhdm+lr1+lr2)))\n",
      "C:\\Users\\Gonzalo\\Documents\\AIforGood\\ABM\\Tucker\\abm.py:217: RuntimeWarning: invalid value encountered in sqrt\n",
      "  -0.5*np.sqrt((-hhdm+lr1+lr2)*(hhdm+lr1-lr2)*(hhdm-lr1+lr2)*(hhdm+lr1+lr2)))\n"
     ]
    },
    {
     "name": "stdout",
     "output_type": "stream",
     "text": [
      "Wall time: 8.29 s\n"
     ]
    }
   ],
   "source": [
    "%%time\n",
    "lis_fast=interaction_neighbours_fast(hhloc,lr1,lr2,lrtol,ethcor)"
   ]
  },
  {
   "cell_type": "code",
   "execution_count": 13,
   "metadata": {},
   "outputs": [],
   "source": [
    "d2s = 200 # Number of time steps (days). #200.\n",
    "nCat = 14 # Diseas state categories (0-13).\n",
    "track_states = np.zeros((d2s,nCat)) \n",
    "ACTIVATE_INTERVENTION = True\n",
    "thosp = 0 # Total number of hospitalized individuals."
   ]
  },
  {
   "cell_type": "code",
   "execution_count": 14,
   "metadata": {},
   "outputs": [
    {
     "name": "stdout",
     "output_type": "stream",
     "text": [
      "Day:1\n",
      "Day:2\n",
      "Introduced new interventions on a cue on dacpihy # 2\n",
      "Day:3\n",
      "Day:4\n",
      "Day:5\n",
      "Day:6\n",
      "Day:7\n",
      "Day:8\n",
      "Day:9\n",
      "Day:10\n",
      "Day:11\n",
      "Day:12\n",
      "Day:13\n",
      "Day:14\n",
      "Day:15\n",
      "Day:16\n",
      "Day:17\n",
      "Day:18\n",
      "Day:19\n",
      "Day:20\n",
      "Day:21\n",
      "Day:22\n",
      "Day:23\n",
      "Day:24\n",
      "Day:25\n",
      "Day:26\n",
      "Day:27\n",
      "Day:28\n",
      "Day:29\n",
      "Day:30\n",
      "Day:31\n",
      "Day:32\n",
      "Day:33\n",
      "Day:34\n",
      "Day:35\n",
      "Day:36\n",
      "Day:37\n",
      "Day:38\n",
      "Day:39\n",
      "Day:40\n",
      "Day:41\n",
      "Day:42\n",
      "Day:43\n",
      "Day:44\n",
      "Day:45\n",
      "Day:46\n",
      "Day:47\n",
      "Day:48\n",
      "Day:49\n",
      "Day:50\n",
      "Day:51\n",
      "Day:52\n",
      "Day:53\n",
      "Day:54\n",
      "Day:55\n",
      "Day:56\n",
      "Day:57\n",
      "Day:58\n",
      "Day:59\n",
      "Day:60\n",
      "Day:61\n",
      "Day:62\n",
      "Day:63\n",
      "Day:64\n",
      "Day:65\n",
      "Day:66\n",
      "Day:67\n",
      "Day:68\n",
      "Day:69\n",
      "Day:70\n",
      "Day:71\n",
      "Day:72\n",
      "Day:73\n",
      "Day:74\n",
      "Day:75\n",
      "Day:76\n",
      "Day:77\n",
      "Day:78\n",
      "Day:79\n",
      "Day:80\n",
      "Day:81\n",
      "Day:82\n",
      "Day:83\n",
      "Day:84\n",
      "Day:85\n",
      "Day:86\n",
      "Day:87\n",
      "Day:88\n",
      "Day:89\n",
      "Day:90\n",
      "Epidemic ended on day: 89\n"
     ]
    }
   ],
   "source": [
    "#time to assemble the big for loop\n",
    "for i in range(d2s):   \n",
    "    print(f\"Day:{i+1}\")\n",
    "    # Record states (disease progession)\n",
    "    track_states[i,:] = np.bincount(pop_matrix[:,1].astype(int),minlength=14)\n",
    "    # Check to see if epidemic has stopped.\n",
    "    if epidemic_finish(np.concatenate((track_states[i,1:6],track_states[i,7:nCat])),i):\n",
    "        print(\"Epidemic ended on day:\",i)\n",
    "        break\n",
    "    # Introduce new interventions on a cue.\n",
    "    if (ACTIVATE_INTERVENTION and (i > 0)): \n",
    "        print(\"Introduced new interventions on a cue on dacpihy #\",i+1)\n",
    "        iat1 = i\n",
    "        ACTIVATE_INTERVENTION = False\n",
    "        lr1 = 0.001\n",
    "        tr = 0.25\n",
    "        fnum,fshared=position_foodline(hhloc,12,12) \n",
    "        lis = interaction_neighbours_fast(hhloc,lr1,lr2,lrtol,ethcor)\n",
    "        viol_rate = 0.05 # Rate to violate lockdown. Assume they do so at lr2.\n",
    "        pop_matrix[:, 8] = np.where(np.random.rand(N) < 0.05, 1, 0)\n",
    "    #Add day since exposure or symptoms (if not unexposed).  \n",
    "    pop_matrix[np.where(pop_matrix[:,1]>0),3] += 1     \n",
    "    mild_rec = np.random.uniform(0,1,N) > math.exp(0.2*math.log(0.1))   # Liu et al 2020 The Lancet.\n",
    "    sev_rec = np.random.uniform(0,1,N) > math.exp(math.log(63/153)/12)  # Cai et al.\n",
    "    pick_sick = np.random.uniform(0,1,N)                # Get random numbers to determine health states.\n",
    "    pop_matrix,thosp=disease_state_update(pop_matrix,mild_rec,sev_rec,pick_sick,thosp)\n",
    "    pop_matrix,thosp=disease_state_update(pop_matrix,mild_rec,sev_rec,pick_sick,thosp,quarantined=True)\n",
    "    #Assign new infections\n",
    "    pop_matrix=assign_new_infections(pop_matrix,tshared,fshared,num_toilet_visit,num_toilet_contact,num_food_visit,num_food_contact,pct_food_visit,aip,tr,lis,twh) \n",
    "    # MOVE HOUSEHOLDS TO QUARANTINE.\n",
    "    pop_matrix=move_hhl_quarantine(pop_matrix,siprob)#########\n",
    "    ##########################################################\n",
    "    # MOVE INDIVIDUALS BACK TO POPULATION when they have not shed for cleardays.\n",
    "    # Currently, the model does not include a mechanism for sending people back from quarantine\n",
    "    # if they never get the infection. This may not matter if the infection spreads in quarantine,\n",
    "    # but we will have to watch to see if some people get stuck in state 7.\n",
    "    quarantine_back=np.logical_and(pop_matrix[:,1]==13,pop_matrix[:,3]>=clearday)\n",
    "    pop_matrix[quarantine_back,1]=6"
   ]
  },
  {
   "cell_type": "code",
   "execution_count": 15,
   "metadata": {},
   "outputs": [
    {
     "data": {
      "text/plain": [
       "(200, 14)"
      ]
     },
     "execution_count": 15,
     "metadata": {},
     "output_type": "execute_result"
    }
   ],
   "source": [
    "track_states.shape"
   ]
  },
  {
   "cell_type": "markdown",
   "metadata": {},
   "source": [
    "Disease state: 0 = susceptible, 1 = exposed, 2 = presymptomatic, 3 = symptomatic, 4 = mild, 5 = severe, 6 = recovered. Similar states in quarentine are the same plus seven. In other words, this is a categorical variable with values between 0 and 13 inclusive."
   ]
  },
  {
   "cell_type": "code",
   "execution_count": 16,
   "metadata": {},
   "outputs": [],
   "source": [
    "#no one is moved into quarantine yet the epidemic is so much faster with sectoring..."
   ]
  },
  {
   "cell_type": "code",
   "execution_count": 17,
   "metadata": {},
   "outputs": [],
   "source": [
    "#manipulate track state to get the numbers \n",
    "tracker=pd.DataFrame(track_states, columns=['susceptible','exposed','presymptomatic','symptomatic','mild','severe','recovered',\n",
    "                                           'qua_susceptible','qua_exposed','qua_presymptomatic','qua_symptomatic','qua_mild',\n",
    "                                            'qua_severe','qua_recovered'])"
   ]
  },
  {
   "cell_type": "code",
   "execution_count": 18,
   "metadata": {},
   "outputs": [
    {
     "data": {
      "text/plain": [
       "<matplotlib.axes._subplots.AxesSubplot at 0x19f802796a0>"
      ]
     },
     "execution_count": 18,
     "metadata": {},
     "output_type": "execute_result"
    },
    {
     "data": {
      "image/png": "[encoded data removed]",
      "text/plain": [
       "<Figure size 432x288 with 1 Axes>"
      ]
     },
     "metadata": {
      "needs_background": "light"
     },
     "output_type": "display_data"
    }
   ],
   "source": [
    "#something is not quite right here... how come they don't even show up here - are we moving them way too quickly? \n",
    "#- perhaps their days need to be cleared when they go into quarantine\n",
    "tracker['qua_recovered'][:84].plot()"
   ]
  },
  {
   "cell_type": "code",
   "execution_count": 19,
   "metadata": {},
   "outputs": [],
   "source": [
    "def epidemic_finish(states,iteration):\n",
    "    '''\n",
    "    Finish the simulation when no person is in any state other than recovered or susceptible\n",
    "    '''\n",
    "    return (np.sum(states) == 0 and iteration > 10)"
   ]
  },
  {
   "cell_type": "code",
   "execution_count": 20,
   "metadata": {},
   "outputs": [],
   "source": [
    "def disease_state_update(pop_matrix,mild_rec,sev_rec,pick_sick,thosp,quarantined=False):\n",
    "    #progress infected individuals to mild infection, progress mild to recovered and progress severe to recovered\n",
    "    qua_add=0\n",
    "    if quarantined:\n",
    "        qua_add=7\n",
    "    idxrecovmild = np.logical_and(pop_matrix[:,1]==(4+qua_add),mild_rec)\n",
    "    idxrecovsevere = np.logical_and(pop_matrix[:,1]==(5+qua_add),sev_rec)\n",
    "    pop_matrix[idxrecovmild,1] = 6+qua_add                             # Mild symptoms and recovered.\n",
    "    pop_matrix[idxrecovsevere,1] = 6+qua_add                              # Severe symptoms and recovered.\n",
    "    idxsympmild=np.logical_and(pop_matrix[:,1]==(3+qua_add),pop_matrix[:,3]==6)\n",
    "    pop_matrix[idxsympmild,1] = 4+qua_add   # Move individuals with 6 days of symptoms to mild.\n",
    "    asp = np.array([0,.000408,.0104,.0343,.0425,.0816,.118,.166,.184])        # Verity et al. hospitalisation.\n",
    "    aspc = np.array([.0101,.0209,.0410,.0642,.0721,.2173,.2483,.6921,.6987])  # Verity et al. corrected for Tuite.\n",
    "    AGE_BUCKET=9\n",
    "    for buc in range(AGE_BUCKET):\n",
    "        # Assign individuals with mild symptoms for six days, sick, between 10*sci and 10*sci+1 years old to severe and count as hospitalized.\n",
    "        if buc==8:\n",
    "            #here we include everyone beyond the age of 80 instead of 80-90\n",
    "            severe_ind=np.logical_and.reduce((pop_matrix[:,1]==4+qua_add,pop_matrix[:,3]==6,pick_sick<asp[buc],pop_matrix[:,5]>=10*buc))\n",
    "            thosp += np.sum(severe_ind)\n",
    "            pop_matrix[severe_ind,1] = 5+qua_add                 \n",
    "            # Wouldnt this step double count previous individuals? Is this step the one that adjusts for pre-existing conditions?\n",
    "            severe_chronic_ind=np.logical_and.reduce((pop_matrix[:,1]==4+qua_add,pop_matrix[:,3]==6,pick_sick<aspc[buc],pop_matrix[:,5]>=10*buc,pop_matrix[:,7]==1))\n",
    "            thosp += np.sum(severe_chronic_ind)\n",
    "            pop_matrix[severe_chronic_ind,1] = 5+qua_add\n",
    "        severe_ind=np.logical_and.reduce((pop_matrix[:,1]==4+qua_add,pop_matrix[:,3]==6,pick_sick<asp[buc],pop_matrix[:,5]>=10*buc, pop_matrix[:,5]<(10*buc+10)))\n",
    "        thosp += np.sum(severe_ind)\n",
    "        pop_matrix[severe_ind,1] = 5+qua_add                \n",
    "        # Wouldnt this step double count previous individuals? Is this step the one that adjusts for pre-existing conditions?\n",
    "        severe_chronic_ind=np.logical_and.reduce((pop_matrix[:,1]==4+qua_add,pop_matrix[:,3]==6,pick_sick<aspc[buc],pop_matrix[:,5]>=10*buc,pop_matrix[:,5]<(10*buc+10),pop_matrix[:,7]==1))\n",
    "        thosp += np.sum(severe_chronic_ind)\n",
    "        pop_matrix[severe_chronic_ind,1] = 5+qua_add\n",
    "    # Move presymptomatic to symptomatic but not yet severe.\n",
    "    idxpresym = np.logical_and(pop_matrix[:,1]==2+qua_add,pop_matrix[:,3]>=pop_matrix[:,2])\n",
    "    pop_matrix[idxpresym,1] = 3+qua_add\n",
    "    pop_matrix[idxpresym,3] = 0\n",
    "    # Move to exposed to presymptomatic\n",
    "    exptopre_ind=np.logical_and(pop_matrix[:,1]==1+qua_add,pop_matrix[:,3]>=np.floor(0.5*pop_matrix[:,2]))\n",
    "    pop_matrix[exptopre_ind,1] =2+qua_add\n",
    "    return pop_matrix,thosp"
   ]
  },
  {
   "cell_type": "code",
   "execution_count": 21,
   "metadata": {},
   "outputs": [],
   "source": [
    "def accumarray(subs,val):\n",
    "    '''Construct Array with accumulation.\n",
    "    https://www.mathworks.com/help/matlab/ref/accumarray.html'''\n",
    "    return np.array([np.sum(val[np.where(subs==i)]) for i in np.unique(subs)])"
   ]
  },
  {
   "cell_type": "code",
   "execution_count": 22,
   "metadata": {},
   "outputs": [],
   "source": [
    "def identify_contagious_active(pop_matrix):\n",
    "    contagious_hhl = np.logical_and(pop_matrix[:,1]>1,pop_matrix[:,1]<6)  \n",
    "    contagious_hhl_qua = np.logical_and(pop_matrix[:,1]>8,pop_matrix[:,1]<13) \n",
    "    contagious_asymp=np.logical_and.reduce((pop_matrix[:,1]>2,pop_matrix[:,1]<5,pop_matrix[:,4]==1))\n",
    "    contagious_presymp=(pop_matrix[:,1]==2)\n",
    "    contagious_teen=np.logical_and.reduce((pop_matrix[:,1]>2,pop_matrix[:,1]<5,pop_matrix[:,5]<16))\n",
    "    contagious_camp=np.logical_or.reduce((contagious_asymp,contagious_presymp,contagious_teen))\n",
    "    contagious_sitters = np.logical_and(contagious_camp,pop_matrix[:,8]==False)\n",
    "    contagious_wanderers = np.logical_and(contagious_camp,pop_matrix[:,8]==True)\n",
    "    active_camp=np.logical_or.reduce((contagious_camp,pop_matrix[:,1]<2,pop_matrix[:,1]==6))\n",
    "    assert(sum(contagious_camp)==(sum(contagious_sitters)+sum(contagious_wanderers)))\n",
    "    return contagious_hhl,contagious_hhl_qua,contagious_camp,contagious_sitters,contagious_wanderers,active_camp"
   ]
  },
  {
   "cell_type": "code",
   "execution_count": 23,
   "metadata": {},
   "outputs": [],
   "source": [
    "def infected_and_sum_by_households(contagious_hhl,contagious_hhl_qua,contagious_camp,contagious_sitters,contagious_wanderers,active_camp):\n",
    "    infh = accumarray(pop_matrix[:,0],contagious_hhl)   # All infected in house and at toilets, population \n",
    "    infhq = accumarray(pop_matrix[:,0],contagious_hhl_qua) # All infected in house, quarantine \n",
    "    infl = accumarray(pop_matrix[:,0],contagious_camp)   # presymptomatic and asymptomatic for food lines\n",
    "    infls = accumarray(pop_matrix[:,0],contagious_sitters) # All sedentaries for local transmission\n",
    "    inflw = accumarray(pop_matrix[:,0],contagious_wanderers) # All wanderers for local transmission\n",
    "    allfl = accumarray(pop_matrix[:,0],active_camp)  # All people in food lines\n",
    "    return infh,infhq,infl,infls,inflw,allfl"
   ]
  },
  {
   "cell_type": "code",
   "execution_count": 24,
   "metadata": {},
   "outputs": [],
   "source": [
    "def infected_prob_inhhl(inf_prob_hhl,trans_prob_hhl):\n",
    "    return 1-(1-trans_prob_hhl)**np.array(inf_prob_hhl) "
   ]
  },
  {
   "cell_type": "code",
   "execution_count": 25,
   "metadata": {},
   "outputs": [],
   "source": [
    "def infected_prob_activity(act_sharing_matrix,inf_prob_act,ppl_per_household,occur_per_day,num_contact_per_occur,trans_prob_act,trans_reduction,factor=1):\n",
    "    #this could be infections at the toilet or the foodline\n",
    "    proportion_infecteds=(act_sharing_matrix.dot(inf_prob_act))/(act_sharing_matrix.dot(ppl_per_household))\n",
    "    act_factor=occur_per_day*num_contact_per_occur\n",
    "    act_coef = np.arange(act_factor+1)\n",
    "    trans_when_act = 1-factorial(act_factor)*np.sum(((factorial(act_factor-act_coef)*factorial(act_coef))**-1)*\n",
    "                                (np.transpose(np.array([(1-proportion_infecteds)**(act_factor-i) for i in act_coef])))*\n",
    "                                (np.transpose(np.array([proportion_infecteds**i for i in act_coef])))*\n",
    "                                (np.power(1-trans_prob_act*trans_reduction,act_coef)),1)\n",
    "    return trans_when_act*factor"
   ]
  },
  {
   "cell_type": "code",
   "execution_count": 26,
   "metadata": {},
   "outputs": [],
   "source": [
    "def infected_prob_movement(pop_matrix,neighbour_inter,infls,inflw):\n",
    "    lr1_exp_contacts = neighbour_inter[:,:,0].dot(infls)+neighbour_inter[:,:,1].dot(inflw)\n",
    "    lr2_exp_contacts = neighbour_inter[:,:,1].dot(infls)+neighbour_inter[:,:,2].dot(inflw)    \n",
    "    # But contacts are roughly Poisson distributed (assuming a large population), so transmission rates are:\n",
    "    trans_for_lr1 = 1-np.exp(-lr1_exp_contacts*aip*tr)\n",
    "    trans_for_lr2 = 1-np.exp(-lr2_exp_contacts*aip*tr)    \n",
    "    # Now, assign the appropriate local transmission rates to each person.\n",
    "    trans_local_inter = trans_for_lr1[pop_matrix[:,0].astype(int)]*(1-pop_matrix[:,8])+trans_for_lr2[pop_matrix[:,0].astype(int)]*(pop_matrix[:,8])\n",
    "    return trans_local_inter"
   ]
  },
  {
   "cell_type": "code",
   "execution_count": 27,
   "metadata": {},
   "outputs": [],
   "source": [
    "def assign_new_infections(pop_matrix,tshared,fshared,num_toilet_visit,num_toilet_contact,num_food_visit,num_food_contact,pct_food_visit,aip,tr,lis):\n",
    "    ##########################################################\n",
    "    # IDENTIFY CONTAGIOUS AND ACTVE PEOPLE IN DIFFERENT CONTEXTS.\n",
    "    # Contagious in the house and at toilets, in population.  \n",
    "    # At least presymptomatic AND at most severe.\n",
    "    cpih,cpihq,cpco,cpcos,cpcow,apco=identify_contagious_active(pop_matrix)\n",
    "    ########################################################## \n",
    "    ##########################################################  \n",
    "    # COMPUTE INFEECTED PEOPLE PER HOUSEHOLD.\n",
    "    infh,infhq,infl,infls,inflw,allfl=infected_and_sum_by_households(cpih,cpihq,cpco,cpcos,cpcow,apco)     \n",
    "    ##########################################################   \n",
    "    pph = np.bincount(pop_matrix[:,0].astype(int)) #compute people per household\n",
    "    ##########################################################\n",
    "    # COMPUTE INFECTION PROBABILITIES FOR EACH PERSON BY HOUSEHOLD.\n",
    "    # Probability for members of each household to contract from their housemates\n",
    "    cfh = infected_prob_inhhl(infh,twh)   # In population\n",
    "    cfhq =infected_prob_inhhl(infhq,twh)   # In quarantine.\n",
    "    # Compute proportions infecteds at toilets and in food lines.\n",
    "    trans_at_toil=infected_prob_activity(tshared,infl,allfl,num_toilet_visit,num_toilet_contact,aip,tr)\n",
    "    # Compute transmission in food lines by household.\n",
    "    # Assume each person goes to the food line once per day on 75% oft_factor days.\n",
    "    # Other days someone brings food to them (with no additional contact).\n",
    "    trans_in_fl=infected_prob_activity(fshared,infl,allfl,num_food_visit,num_food_contact,aip,tr,factor=pct_food_visit)\n",
    "    # Households in quarantine don't get these exposures, but that is taken care of below\n",
    "    # because this is applied only to susceptibles in the population with these, we can calculate\n",
    "    # the probability of all transmissions that calculated at the household level.\n",
    "    pthl = 1-(1-cfh)*(1-trans_at_toil)*(1-trans_in_fl)\n",
    "    # Transmissions during movement around the residence must be calculated at the individual level,\n",
    "    # because they do not depend on what movement radius the individual uses. So...\n",
    "    # Compute expected contacts with infected individuals for individuals that use small and large movement radii.\n",
    "    local_trans=infected_prob_movement(pop_matrix,lis,infls,inflw)\n",
    "    # Finally, compute the full per-person infection probability within households, at toilets and food lines.\n",
    "    full_inf_prob = 1-((1-pthl[pop_matrix[:,0].astype(int)])*(1-local_trans))\n",
    "    ##########################################################    \n",
    "    # ASSIGN NEW INFECTIONS.\n",
    "    new_inf = full_inf_prob>np.random.uniform(0,1,N)                # Find new infections by person, population.\n",
    "    pop_matrix[:,1] += (1-np.sign(pop_matrix[:,1]))*new_inf         # Impose infections, population. Only infect susceptible individuals\n",
    "    new_infq = cfhq[pop_matrix[:,0].astype(int)]>np.random.uniform(0,1,N) # Find new infections by person, quarantine\n",
    "    pop_matrix[:,1] += (pop_matrix[:,1]==7)*new_infq                         # Impose nfections, quarantine.\n",
    "    return pop_matrix"
   ]
  },
  {
   "cell_type": "code",
   "execution_count": 28,
   "metadata": {},
   "outputs": [],
   "source": [
    "def move_hhl_quarantine(pop_matrix,prob_spot_symp):\n",
    "    spot_symp=np.random.uniform(0,1,N)<prob_spot_symp\n",
    "    symp=np.logical_and.reduce((pop_matrix[:,1]>2,pop_matrix[:,1]<6,pop_matrix[:,4]==0,pop_matrix[:,5]>=16))\n",
    "    spotted_per_day=spot_symp*symp\n",
    "    symp_house = pop_matrix[spotted_per_day==1,0]\n",
    "    pop_matrix[np.in1d(pop_matrix[:,0],symp_house),1] += 7\n",
    "    return pop_matrix"
   ]
  },
  {
   "cell_type": "code",
   "execution_count": 29,
   "metadata": {},
   "outputs": [],
   "source": [
    "from tqdm import tqdm"
   ]
  },
  {
   "cell_type": "code",
   "execution_count": 30,
   "metadata": {},
   "outputs": [
    {
     "name": "stderr",
     "output_type": "stream",
     "text": [
      "\r",
      "  0%|          | 0/200 [00:00<?, ?it/s]"
     ]
    },
    {
     "name": "stdout",
     "output_type": "stream",
     "text": [
      "Day:1\n"
     ]
    },
    {
     "name": "stderr",
     "output_type": "stream",
     "text": [
      "\r",
      "  0%|          | 1/200 [00:01<05:21,  1.62s/it]"
     ]
    },
    {
     "name": "stdout",
     "output_type": "stream",
     "text": [
      "Day:2\n"
     ]
    },
    {
     "name": "stderr",
     "output_type": "stream",
     "text": [
      "\r",
      "  1%|          | 2/200 [00:03<05:20,  1.62s/it]"
     ]
    },
    {
     "name": "stdout",
     "output_type": "stream",
     "text": [
      "Day:3\n"
     ]
    },
    {
     "name": "stderr",
     "output_type": "stream",
     "text": [
      "\r",
      "  2%|▏         | 3/200 [00:04<05:17,  1.61s/it]"
     ]
    },
    {
     "name": "stdout",
     "output_type": "stream",
     "text": [
      "Day:4\n"
     ]
    },
    {
     "name": "stderr",
     "output_type": "stream",
     "text": [
      "\r",
      "  2%|▏         | 4/200 [00:06<05:21,  1.64s/it]"
     ]
    },
    {
     "name": "stdout",
     "output_type": "stream",
     "text": [
      "Day:5\n"
     ]
    },
    {
     "name": "stderr",
     "output_type": "stream",
     "text": [
      "\r",
      "  2%|▎         | 5/200 [00:08<05:16,  1.62s/it]"
     ]
    },
    {
     "name": "stdout",
     "output_type": "stream",
     "text": [
      "Day:6\n"
     ]
    },
    {
     "name": "stderr",
     "output_type": "stream",
     "text": [
      "\r",
      "  3%|▎         | 6/200 [00:09<05:13,  1.61s/it]"
     ]
    },
    {
     "name": "stdout",
     "output_type": "stream",
     "text": [
      "Day:7\n"
     ]
    },
    {
     "name": "stderr",
     "output_type": "stream",
     "text": [
      "\r",
      "  4%|▎         | 7/200 [00:11<05:10,  1.61s/it]"
     ]
    },
    {
     "name": "stdout",
     "output_type": "stream",
     "text": [
      "Day:8\n"
     ]
    },
    {
     "name": "stderr",
     "output_type": "stream",
     "text": [
      "\r",
      "  4%|▍         | 8/200 [00:12<05:07,  1.60s/it]"
     ]
    },
    {
     "name": "stdout",
     "output_type": "stream",
     "text": [
      "Day:9\n"
     ]
    },
    {
     "name": "stderr",
     "output_type": "stream",
     "text": [
      "\r",
      "  4%|▍         | 9/200 [00:14<05:06,  1.60s/it]"
     ]
    },
    {
     "name": "stdout",
     "output_type": "stream",
     "text": [
      "Day:10\n"
     ]
    },
    {
     "name": "stderr",
     "output_type": "stream",
     "text": [
      "\r",
      "  5%|▌         | 10/200 [00:16<05:18,  1.68s/it]"
     ]
    },
    {
     "name": "stdout",
     "output_type": "stream",
     "text": [
      "Day:11\n"
     ]
    },
    {
     "name": "stderr",
     "output_type": "stream",
     "text": [
      "  6%|▌         | 11/200 [00:17<05:09,  1.64s/it]"
     ]
    },
    {
     "name": "stdout",
     "output_type": "stream",
     "text": [
      "Day:12\n",
      "Epidemic ended on day: 11\n"
     ]
    },
    {
     "name": "stderr",
     "output_type": "stream",
     "text": [
      "\n"
     ]
    }
   ],
   "source": [
    "#time to assemble the big for loop\n",
    "for i in tqdm(range(d2s)):   \n",
    "    print(f\"Day:{i+1}\")\n",
    "    # Record states (disease progession)\n",
    "    track_states[i,:] = np.bincount(pop_matrix[:,1].astype(int),minlength=14)\n",
    "    # Check to see if epidemic has stopped.\n",
    "    if epidemic_finish(np.concatenate((track_states[i,1:6],track_states[i,7:nCat])),i):\n",
    "        print(\"Epidemic ended on day:\",i)\n",
    "        break\n",
    "    # Introduce new interventions on a cue.\n",
    "    if (ACTIVATE_INTERVENTION and (i > 0) and (((sum(cpih)-sum(cpco))/N) > -1)): \n",
    "        print(\"Introduced new interventions on a cue on dacpihy #\",i+1)\n",
    "        iat1 = i\n",
    "        ACTIVATE_INTERVENTION = False\n",
    "        lr1 = 0.001\n",
    "        fblocks = [12,12]\n",
    "        tr = 0.25\n",
    "        fshared=position_foodline(hhloc,fblocks[0],fblocks[1]) \n",
    "        lis = interaction_neighbours_fast(hhloc,lr1,lr2,lrtol,ethcor)\n",
    "        viol_rate = 0.05 # Rate to violate lockdown. Assume they do so at lr2.\n",
    "        pop_matrix[:, 8] = np.where(np.random.rand(N) < 0.05, 1, 0)\n",
    "    #Add day since exposure or symptoms (if not unexposed).  \n",
    "    pop_matrix[np.where(pop_matrix[:,1]>0),3] += 1     \n",
    "    mild_rec = np.random.uniform(0,1,N) > math.exp(0.2*math.log(0.1))   # Liu et al 2020 The Lancet.\n",
    "    sev_rec = np.random.uniform(0,1,N) > math.exp(math.log(63/153)/12)  # Cai et al.\n",
    "    pick_sick = np.random.uniform(0,1,N)                # Get random numbers to determine health states.\n",
    "    pop_matrix,thosp=disease_state_update(pop_matrix,mild_rec,sev_rec,pick_sick,thosp)\n",
    "    pop_matrix,thosp=disease_state_update(pop_matrix,mild_rec,sev_rec,pick_sick,thosp,quarantined=True)\n",
    "    #Assign new infections\n",
    "    pop_matrix=assign_new_infections(pop_matrix,tshared,fshared,num_toilet_visit,num_toilet_contact,num_food_visit,num_food_contact,pct_food_visit,aip,tr,lis) \n",
    "    # MOVE HOUSEHOLDS TO QUARANTINE.\n",
    "    pop_matrix=move_hhl_quarantine(pop_matrix,siprob)#########\n",
    "    ##########################################################\n",
    "    # MOVE INDIVIDUALS BACK TO POPULATION when they have not shed for cleardays.\n",
    "    # Currently, the model does not include a mechanism for sending people back from quarantine\n",
    "    # if they never get the infection. This may not matter if the infection spreads in quarantine,\n",
    "    # but we will have to watch to see if some people get stuck in state 7.\n",
    "    quarantine_back=np.logical_and(pop_matrix[:,1]==13,pop_matrix[:,3]>=7)\n",
    "    pop_matrix[quarantine_back,1]=6"
   ]
  },
  {
   "cell_type": "code",
   "execution_count": 31,
   "metadata": {},
   "outputs": [],
   "source": [
    "from numpy.testing import assert_almost_equal"
   ]
  },
  {
   "cell_type": "code",
   "execution_count": 32,
   "metadata": {},
   "outputs": [
    {
     "ename": "NameError",
     "evalue": "name 'a' is not defined",
     "output_type": "error",
     "traceback": [
      "\u001b[1;31m---------------------------------------------------------------------------\u001b[0m",
      "\u001b[1;31mNameError\u001b[0m                                 Traceback (most recent call last)",
      "\u001b[1;32m<ipython-input-32-599ba160bad6>\u001b[0m in \u001b[0;36m<module>\u001b[1;34m\u001b[0m\n\u001b[1;32m----> 1\u001b[1;33m \u001b[0massert_almost_equal\u001b[0m\u001b[1;33m(\u001b[0m\u001b[0ma\u001b[0m\u001b[1;33m,\u001b[0m\u001b[0mb\u001b[0m\u001b[1;33m)\u001b[0m\u001b[1;33m\u001b[0m\u001b[1;33m\u001b[0m\u001b[0m\n\u001b[0m",
      "\u001b[1;31mNameError\u001b[0m: name 'a' is not defined"
     ]
    }
   ],
   "source": [
    "assert_almost_equal(a,b)"
   ]
  },
  {
   "cell_type": "code",
   "execution_count": null,
   "metadata": {},
   "outputs": [],
   "source": []
  }
 ],
 "metadata": {
  "kernelspec": {
   "display_name": "Python 3",
   "language": "python",
   "name": "python3"
  },
  "language_info": {
   "codemirror_mode": {
    "name": "ipython",
    "version": 3
   },
   "file_extension": ".py",
   "mimetype": "text/x-python",
   "name": "python",
   "nbconvert_exporter": "python",
   "pygments_lexer": "ipython3",
   "version": "3.7.1"
  },
  "widgets": {
   "application/vnd.jupyter.widget-state+json": {
    "state": {},
    "version_major": 2,
    "version_minor": 0
   }
  }
 },
 "nbformat": 4,
 "nbformat_minor": 4
}

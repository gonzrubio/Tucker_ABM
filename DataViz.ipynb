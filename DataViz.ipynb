{
 "cells": [
  {
   "cell_type": "code",
   "execution_count": 2,
   "metadata": {},
   "outputs": [],
   "source": [
    "import numpy as np\n",
    "import pandas as pd\n",
    "import matplotlib.pyplot as plt\n",
    "import seaborn as sns"
   ]
  },
  {
   "cell_type": "code",
   "execution_count": 3,
   "metadata": {},
   "outputs": [],
   "source": [
    "L95 = pd.read_csv('L95_Solution_Camp_2_10_100_No_control.csv')\n",
    "median = pd.read_csv('median_Solution_Camp_2_10_100_No_control.csv')\n",
    "middle = pd.read_csv('middle_R0_Solution_Camp_2_10_100_No_control.csv')\n",
    "U95 = pd.read_csv('U95_Solution_Camp_2_10_100_No_control.csv')\n",
    "\n",
    "L95 = L95.drop('Unnamed: 0', axis = 1)\n",
    "median = median.drop('Unnamed: 0', axis = 1)\n",
    "middle = middle.drop('Unnamed: 0', axis = 1)\n",
    "U95 = U95.drop('Unnamed: 0', axis = 1)"
   ]
  },
  {
   "cell_type": "code",
   "execution_count": 4,
   "metadata": {},
   "outputs": [
    {
     "data": {
      "text/html": [
       "<div>\n",
       "<style scoped>\n",
       "    .dataframe tbody tr th:only-of-type {\n",
       "        vertical-align: middle;\n",
       "    }\n",
       "\n",
       "    .dataframe tbody tr th {\n",
       "        vertical-align: top;\n",
       "    }\n",
       "\n",
       "    .dataframe thead th {\n",
       "        text-align: right;\n",
       "    }\n",
       "</style>\n",
       "<table border=\"1\" class=\"dataframe\">\n",
       "  <thead>\n",
       "    <tr style=\"text-align: right;\">\n",
       "      <th></th>\n",
       "      <th>Susceptible: 0-20</th>\n",
       "      <th>Exposed: 0-20</th>\n",
       "      <th>Infected (symptomatic): 0-20</th>\n",
       "      <th>Asymptomatically Infected: 0-20</th>\n",
       "      <th>Recovered: 0-20</th>\n",
       "      <th>Hospitalised: 0-20</th>\n",
       "      <th>Critical: 0-20</th>\n",
       "      <th>Deaths: 0-20</th>\n",
       "      <th>Susceptible: 20-40</th>\n",
       "      <th>Exposed: 20-40</th>\n",
       "      <th>...</th>\n",
       "      <th>Susceptible</th>\n",
       "      <th>Exposed</th>\n",
       "      <th>Infected (symptomatic)</th>\n",
       "      <th>Asymptomatically Infected</th>\n",
       "      <th>Recovered</th>\n",
       "      <th>Hospitalised</th>\n",
       "      <th>Critical</th>\n",
       "      <th>Deaths</th>\n",
       "      <th>New Exposure</th>\n",
       "      <th>New Deaths</th>\n",
       "    </tr>\n",
       "  </thead>\n",
       "  <tbody>\n",
       "    <tr>\n",
       "      <th>0</th>\n",
       "      <td>0.399999</td>\n",
       "      <td>0.000000</td>\n",
       "      <td>1.000000e-06</td>\n",
       "      <td>1.000000e-06</td>\n",
       "      <td>0.000000e+00</td>\n",
       "      <td>0.000000e+00</td>\n",
       "      <td>0.000000e+00</td>\n",
       "      <td>0.000000e+00</td>\n",
       "      <td>0.399999</td>\n",
       "      <td>0.000000</td>\n",
       "      <td>...</td>\n",
       "      <td>0.999997</td>\n",
       "      <td>0.000000</td>\n",
       "      <td>0.000003</td>\n",
       "      <td>0.000003</td>\n",
       "      <td>0.000000e+00</td>\n",
       "      <td>0.000000e+00</td>\n",
       "      <td>0.000000e+00</td>\n",
       "      <td>0.000000e+00</td>\n",
       "      <td>0.000000</td>\n",
       "      <td>0.000000e+00</td>\n",
       "    </tr>\n",
       "    <tr>\n",
       "      <th>1</th>\n",
       "      <td>0.399998</td>\n",
       "      <td>0.000001</td>\n",
       "      <td>9.006020e-07</td>\n",
       "      <td>9.006020e-07</td>\n",
       "      <td>3.736420e-07</td>\n",
       "      <td>3.511826e-10</td>\n",
       "      <td>9.688126e-13</td>\n",
       "      <td>1.717739e-13</td>\n",
       "      <td>0.399998</td>\n",
       "      <td>0.000001</td>\n",
       "      <td>...</td>\n",
       "      <td>0.999994</td>\n",
       "      <td>0.000003</td>\n",
       "      <td>0.000002</td>\n",
       "      <td>0.000002</td>\n",
       "      <td>9.132091e-07</td>\n",
       "      <td>2.142214e-08</td>\n",
       "      <td>3.013007e-10</td>\n",
       "      <td>5.342167e-11</td>\n",
       "      <td>0.000004</td>\n",
       "      <td>5.342167e-11</td>\n",
       "    </tr>\n",
       "    <tr>\n",
       "      <th>2</th>\n",
       "      <td>0.399996</td>\n",
       "      <td>0.000002</td>\n",
       "      <td>9.473695e-07</td>\n",
       "      <td>9.473695e-07</td>\n",
       "      <td>7.390805e-07</td>\n",
       "      <td>6.539132e-10</td>\n",
       "      <td>3.128608e-12</td>\n",
       "      <td>1.162667e-12</td>\n",
       "      <td>0.399996</td>\n",
       "      <td>0.000002</td>\n",
       "      <td>...</td>\n",
       "      <td>0.999990</td>\n",
       "      <td>0.000006</td>\n",
       "      <td>0.000002</td>\n",
       "      <td>0.000002</td>\n",
       "      <td>1.808123e-06</td>\n",
       "      <td>3.988871e-08</td>\n",
       "      <td>9.729971e-10</td>\n",
       "      <td>3.615894e-10</td>\n",
       "      <td>0.000004</td>\n",
       "      <td>3.081677e-10</td>\n",
       "    </tr>\n",
       "    <tr>\n",
       "      <th>3</th>\n",
       "      <td>0.399994</td>\n",
       "      <td>0.000003</td>\n",
       "      <td>1.093054e-06</td>\n",
       "      <td>1.093054e-06</td>\n",
       "      <td>1.143987e-06</td>\n",
       "      <td>9.585613e-10</td>\n",
       "      <td>5.916730e-12</td>\n",
       "      <td>3.402925e-12</td>\n",
       "      <td>0.399994</td>\n",
       "      <td>0.000003</td>\n",
       "      <td>...</td>\n",
       "      <td>0.999986</td>\n",
       "      <td>0.000008</td>\n",
       "      <td>0.000003</td>\n",
       "      <td>0.000003</td>\n",
       "      <td>2.801015e-06</td>\n",
       "      <td>5.847224e-08</td>\n",
       "      <td>1.840103e-09</td>\n",
       "      <td>1.058310e-09</td>\n",
       "      <td>0.000004</td>\n",
       "      <td>6.967203e-10</td>\n",
       "    </tr>\n",
       "    <tr>\n",
       "      <th>4</th>\n",
       "      <td>0.399993</td>\n",
       "      <td>0.000004</td>\n",
       "      <td>1.319628e-06</td>\n",
       "      <td>1.319628e-06</td>\n",
       "      <td>1.623582e-06</td>\n",
       "      <td>1.297973e-09</td>\n",
       "      <td>9.187397e-12</td>\n",
       "      <td>7.158795e-12</td>\n",
       "      <td>0.399993</td>\n",
       "      <td>0.000004</td>\n",
       "      <td>...</td>\n",
       "      <td>0.999981</td>\n",
       "      <td>0.000011</td>\n",
       "      <td>0.000003</td>\n",
       "      <td>0.000003</td>\n",
       "      <td>3.977982e-06</td>\n",
       "      <td>7.917635e-08</td>\n",
       "      <td>2.857280e-09</td>\n",
       "      <td>2.226385e-09</td>\n",
       "      <td>0.000005</td>\n",
       "      <td>1.168076e-09</td>\n",
       "    </tr>\n",
       "  </tbody>\n",
       "</table>\n",
       "<p>5 rows × 35 columns</p>\n",
       "</div>"
      ],
      "text/plain": [
       "   Susceptible: 0-20  Exposed: 0-20  Infected (symptomatic): 0-20  \\\n",
       "0           0.399999       0.000000                  1.000000e-06   \n",
       "1           0.399998       0.000001                  9.006020e-07   \n",
       "2           0.399996       0.000002                  9.473695e-07   \n",
       "3           0.399994       0.000003                  1.093054e-06   \n",
       "4           0.399993       0.000004                  1.319628e-06   \n",
       "\n",
       "   Asymptomatically Infected: 0-20  Recovered: 0-20  Hospitalised: 0-20  \\\n",
       "0                     1.000000e-06     0.000000e+00        0.000000e+00   \n",
       "1                     9.006020e-07     3.736420e-07        3.511826e-10   \n",
       "2                     9.473695e-07     7.390805e-07        6.539132e-10   \n",
       "3                     1.093054e-06     1.143987e-06        9.585613e-10   \n",
       "4                     1.319628e-06     1.623582e-06        1.297973e-09   \n",
       "\n",
       "   Critical: 0-20  Deaths: 0-20  Susceptible: 20-40  Exposed: 20-40  ...  \\\n",
       "0    0.000000e+00  0.000000e+00            0.399999        0.000000  ...   \n",
       "1    9.688126e-13  1.717739e-13            0.399998        0.000001  ...   \n",
       "2    3.128608e-12  1.162667e-12            0.399996        0.000002  ...   \n",
       "3    5.916730e-12  3.402925e-12            0.399994        0.000003  ...   \n",
       "4    9.187397e-12  7.158795e-12            0.399993        0.000004  ...   \n",
       "\n",
       "   Susceptible   Exposed  Infected (symptomatic)  Asymptomatically Infected  \\\n",
       "0     0.999997  0.000000                0.000003                   0.000003   \n",
       "1     0.999994  0.000003                0.000002                   0.000002   \n",
       "2     0.999990  0.000006                0.000002                   0.000002   \n",
       "3     0.999986  0.000008                0.000003                   0.000003   \n",
       "4     0.999981  0.000011                0.000003                   0.000003   \n",
       "\n",
       "      Recovered  Hospitalised      Critical        Deaths  New Exposure  \\\n",
       "0  0.000000e+00  0.000000e+00  0.000000e+00  0.000000e+00      0.000000   \n",
       "1  9.132091e-07  2.142214e-08  3.013007e-10  5.342167e-11      0.000004   \n",
       "2  1.808123e-06  3.988871e-08  9.729971e-10  3.615894e-10      0.000004   \n",
       "3  2.801015e-06  5.847224e-08  1.840103e-09  1.058310e-09      0.000004   \n",
       "4  3.977982e-06  7.917635e-08  2.857280e-09  2.226385e-09      0.000005   \n",
       "\n",
       "     New Deaths  \n",
       "0  0.000000e+00  \n",
       "1  5.342167e-11  \n",
       "2  3.081677e-10  \n",
       "3  6.967203e-10  \n",
       "4  1.168076e-09  \n",
       "\n",
       "[5 rows x 35 columns]"
      ]
     },
     "execution_count": 4,
     "metadata": {},
     "output_type": "execute_result"
    }
   ],
   "source": [
    "middle.head()"
   ]
  },
  {
   "cell_type": "code",
   "execution_count": 5,
   "metadata": {},
   "outputs": [
    {
     "data": {
      "text/plain": [
       "<matplotlib.axes._subplots.AxesSubplot at 0x11a3245d0>"
      ]
     },
     "execution_count": 5,
     "metadata": {},
     "output_type": "execute_result"
    },
    {
     "data": {
      "image/png": "[encoded data removed]",
      "text/plain": [
       "<Figure size 432x288 with 1 Axes>"
      ]
     },
     "metadata": {
      "needs_background": "light"
     },
     "output_type": "display_data"
    }
   ],
   "source": [
    "median['New Exposure'].plot(kind = 'line')"
   ]
  },
  {
   "cell_type": "code",
   "execution_count": 6,
   "metadata": {},
   "outputs": [
    {
     "data": {
      "text/plain": [
       "Index(['Susceptible: 0-20', 'Exposed: 0-20', 'Infected (symptomatic): 0-20',\n",
       "       'Asymptomatically Infected: 0-20', 'Recovered: 0-20',\n",
       "       'Hospitalised: 0-20', 'Critical: 0-20', 'Deaths: 0-20',\n",
       "       'Susceptible: 20-40', 'Exposed: 20-40', 'Infected (symptomatic): 20-40',\n",
       "       'Asymptomatically Infected: 20-40', 'Recovered: 20-40',\n",
       "       'Hospitalised: 20-40', 'Critical: 20-40', 'Deaths: 20-40',\n",
       "       'Susceptible: 40+', 'Exposed: 40+', 'Infected (symptomatic): 40+',\n",
       "       'Asymptomatically Infected: 40+', 'Recovered: 40+', 'Hospitalised: 40+',\n",
       "       'Critical: 40+', 'Deaths: 40+', 'Time', 'Susceptible', 'Exposed',\n",
       "       'Infected (symptomatic)', 'Asymptomatically Infected', 'Recovered',\n",
       "       'Hospitalised', 'Critical', 'Deaths', 'New Exposure', 'New Deaths'],\n",
       "      dtype='object')"
      ]
     },
     "execution_count": 6,
     "metadata": {},
     "output_type": "execute_result"
    }
   ],
   "source": [
    "middle.columns"
   ]
  },
  {
   "cell_type": "code",
   "execution_count": 11,
   "metadata": {},
   "outputs": [],
   "source": [
    "multiple_middle = pd.melt(middle, id_vars = ['Time'], value_vars = ['Deaths: 0-20', \n",
    "                                                                    'Deaths: 20-40', \n",
    "                                                                    'Deaths: 40+',\n",
    "                                                                    'Hospitalised: 0-20',\n",
    "                                                                    'Hospitalised: 20-40',\n",
    "                                                                    'Hospitalised: 40+',\n",
    "                                                                    'Infected (symptomatic): 0-20',\n",
    "                                                                    'Infected (symptomatic): 20-40',\n",
    "                                                                    'Infected (symptomatic): 40+'])"
   ]
  },
  {
   "cell_type": "code",
   "execution_count": 12,
   "metadata": {},
   "outputs": [
    {
     "data": {
      "text/html": [
       "<div>\n",
       "<style scoped>\n",
       "    .dataframe tbody tr th:only-of-type {\n",
       "        vertical-align: middle;\n",
       "    }\n",
       "\n",
       "    .dataframe tbody tr th {\n",
       "        vertical-align: top;\n",
       "    }\n",
       "\n",
       "    .dataframe thead th {\n",
       "        text-align: right;\n",
       "    }\n",
       "</style>\n",
       "<table border=\"1\" class=\"dataframe\">\n",
       "  <thead>\n",
       "    <tr style=\"text-align: right;\">\n",
       "      <th></th>\n",
       "      <th>Time</th>\n",
       "      <th>variable</th>\n",
       "      <th>value</th>\n",
       "    </tr>\n",
       "  </thead>\n",
       "  <tbody>\n",
       "    <tr>\n",
       "      <th>0</th>\n",
       "      <td>0.0</td>\n",
       "      <td>Deaths: 0-20</td>\n",
       "      <td>0.000000e+00</td>\n",
       "    </tr>\n",
       "    <tr>\n",
       "      <th>1</th>\n",
       "      <td>1.0</td>\n",
       "      <td>Deaths: 0-20</td>\n",
       "      <td>1.717739e-13</td>\n",
       "    </tr>\n",
       "    <tr>\n",
       "      <th>2</th>\n",
       "      <td>2.0</td>\n",
       "      <td>Deaths: 0-20</td>\n",
       "      <td>1.162667e-12</td>\n",
       "    </tr>\n",
       "    <tr>\n",
       "      <th>3</th>\n",
       "      <td>3.0</td>\n",
       "      <td>Deaths: 0-20</td>\n",
       "      <td>3.402925e-12</td>\n",
       "    </tr>\n",
       "    <tr>\n",
       "      <th>4</th>\n",
       "      <td>4.0</td>\n",
       "      <td>Deaths: 0-20</td>\n",
       "      <td>7.158795e-12</td>\n",
       "    </tr>\n",
       "  </tbody>\n",
       "</table>\n",
       "</div>"
      ],
      "text/plain": [
       "   Time      variable         value\n",
       "0   0.0  Deaths: 0-20  0.000000e+00\n",
       "1   1.0  Deaths: 0-20  1.717739e-13\n",
       "2   2.0  Deaths: 0-20  1.162667e-12\n",
       "3   3.0  Deaths: 0-20  3.402925e-12\n",
       "4   4.0  Deaths: 0-20  7.158795e-12"
      ]
     },
     "execution_count": 12,
     "metadata": {},
     "output_type": "execute_result"
    }
   ],
   "source": [
    "multiple_middle.head()"
   ]
  },
  {
   "cell_type": "code",
   "execution_count": 15,
   "metadata": {},
   "outputs": [
    {
     "data": {
      "text/plain": [
       "<matplotlib.axes._subplots.AxesSubplot at 0x11a6d1d10>"
      ]
     },
     "execution_count": 15,
     "metadata": {},
     "output_type": "execute_result"
    },
    {
     "data": {
      "image/png": "[encoded data removed]",
      "text/plain": [
       "<Figure size 432x288 with 1 Axes>"
      ]
     },
     "metadata": {
      "needs_background": "light"
     },
     "output_type": "display_data"
    }
   ],
   "source": [
    "sns.lineplot(x = 'Time', y = 'value', data = multiple_middle, hue = 'variable')"
   ]
  },
  {
   "cell_type": "code",
   "execution_count": null,
   "metadata": {},
   "outputs": [],
   "source": []
  }
 ],
 "metadata": {
  "kernelspec": {
   "display_name": "Python 3",
   "language": "python",
   "name": "python3"
  },
  "language_info": {
   "codemirror_mode": {
    "name": "ipython",
    "version": 3
   },
   "file_extension": ".py",
   "mimetype": "text/x-python",
   "name": "python",
   "nbconvert_exporter": "python",
   "pygments_lexer": "ipython3",
   "version": "3.7.4"
  }
 },
 "nbformat": 4,
 "nbformat_minor": 4
}

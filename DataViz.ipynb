{
 "cells": [
  {
   "cell_type": "code",
   "execution_count": 1,
   "metadata": {},
   "outputs": [],
   "source": [
    "import numpy as np\n",
    "import pandas as pd\n",
    "import matplotlib.pyplot as plt\n",
    "import seaborn as sns"
   ]
  },
  {
   "cell_type": "code",
   "execution_count": 9,
   "metadata": {},
   "outputs": [
    {
     "ename": "TypeError",
     "evalue": "parser_f() got an unexpected keyword argument 'index'",
     "output_type": "error",
     "traceback": [
      "\u001b[0;31m---------------------------------------------------------------------------\u001b[0m",
      "\u001b[0;31mTypeError\u001b[0m                                 Traceback (most recent call last)",
      "\u001b[0;32m<ipython-input-9-46bc89285c26>\u001b[0m in \u001b[0;36m<module>\u001b[0;34m\u001b[0m\n\u001b[0;32m----> 1\u001b[0;31m \u001b[0mdata\u001b[0m \u001b[0;34m=\u001b[0m \u001b[0mpd\u001b[0m\u001b[0;34m.\u001b[0m\u001b[0mread_csv\u001b[0m\u001b[0;34m(\u001b[0m\u001b[0;34m'L95_Solution_Camp_2_10_100_No_control.csv'\u001b[0m\u001b[0;34m,\u001b[0m \u001b[0mindex\u001b[0m \u001b[0;34m=\u001b[0m \u001b[0;32mFalse\u001b[0m\u001b[0;34m)\u001b[0m\u001b[0;34m\u001b[0m\u001b[0;34m\u001b[0m\u001b[0m\n\u001b[0m",
      "\u001b[0;31mTypeError\u001b[0m: parser_f() got an unexpected keyword argument 'index'"
     ]
    }
   ],
   "source": [
    "data = pd.read_csv('L95_Solution_Camp_2_10_100_No_control.csv')"
   ]
  },
  {
   "cell_type": "code",
   "execution_count": 12,
   "metadata": {},
   "outputs": [
    {
     "data": {
      "text/html": [
       "<div>\n",
       "<style scoped>\n",
       "    .dataframe tbody tr th:only-of-type {\n",
       "        vertical-align: middle;\n",
       "    }\n",
       "\n",
       "    .dataframe tbody tr th {\n",
       "        vertical-align: top;\n",
       "    }\n",
       "\n",
       "    .dataframe thead th {\n",
       "        text-align: right;\n",
       "    }\n",
       "</style>\n",
       "<table border=\"1\" class=\"dataframe\">\n",
       "  <thead>\n",
       "    <tr style=\"text-align: right;\">\n",
       "      <th></th>\n",
       "      <th>Susceptible</th>\n",
       "      <th>Exposed</th>\n",
       "      <th>Infected (symptomatic)</th>\n",
       "      <th>Asymptomatically Infected</th>\n",
       "      <th>Recovered</th>\n",
       "      <th>Hospitalised</th>\n",
       "      <th>Critical</th>\n",
       "      <th>Deaths</th>\n",
       "      <th>New Exposure</th>\n",
       "      <th>New Deaths</th>\n",
       "      <th>Time</th>\n",
       "    </tr>\n",
       "  </thead>\n",
       "  <tbody>\n",
       "    <tr>\n",
       "      <th>0</th>\n",
       "      <td>0.999997</td>\n",
       "      <td>0.000000</td>\n",
       "      <td>0.000003</td>\n",
       "      <td>0.000003</td>\n",
       "      <td>0.000000e+00</td>\n",
       "      <td>0.000000e+00</td>\n",
       "      <td>0.000000e+00</td>\n",
       "      <td>0.000000e+00</td>\n",
       "      <td>0.000000</td>\n",
       "      <td>0.000000e+00</td>\n",
       "      <td>0.0</td>\n",
       "    </tr>\n",
       "    <tr>\n",
       "      <th>1</th>\n",
       "      <td>0.999992</td>\n",
       "      <td>0.000002</td>\n",
       "      <td>0.000002</td>\n",
       "      <td>0.000002</td>\n",
       "      <td>8.998615e-07</td>\n",
       "      <td>2.109896e-08</td>\n",
       "      <td>2.988875e-10</td>\n",
       "      <td>5.317129e-11</td>\n",
       "      <td>0.000002</td>\n",
       "      <td>5.317129e-11</td>\n",
       "      <td>1.0</td>\n",
       "    </tr>\n",
       "    <tr>\n",
       "      <th>2</th>\n",
       "      <td>0.999986</td>\n",
       "      <td>0.000003</td>\n",
       "      <td>0.000002</td>\n",
       "      <td>0.000002</td>\n",
       "      <td>1.713046e-06</td>\n",
       "      <td>3.766124e-08</td>\n",
       "      <td>9.420031e-10</td>\n",
       "      <td>3.549337e-10</td>\n",
       "      <td>0.000002</td>\n",
       "      <td>3.017625e-10</td>\n",
       "      <td>2.0</td>\n",
       "    </tr>\n",
       "    <tr>\n",
       "      <th>3</th>\n",
       "      <td>0.999979</td>\n",
       "      <td>0.000004</td>\n",
       "      <td>0.000002</td>\n",
       "      <td>0.000002</td>\n",
       "      <td>2.507351e-06</td>\n",
       "      <td>5.181310e-08</td>\n",
       "      <td>1.711306e-09</td>\n",
       "      <td>1.015564e-09</td>\n",
       "      <td>0.000002</td>\n",
       "      <td>6.606302e-10</td>\n",
       "      <td>3.0</td>\n",
       "    </tr>\n",
       "    <tr>\n",
       "      <th>4</th>\n",
       "      <td>0.999969</td>\n",
       "      <td>0.000004</td>\n",
       "      <td>0.000002</td>\n",
       "      <td>0.000002</td>\n",
       "      <td>3.325171e-06</td>\n",
       "      <td>6.483361e-08</td>\n",
       "      <td>2.515383e-09</td>\n",
       "      <td>2.071724e-09</td>\n",
       "      <td>0.000002</td>\n",
       "      <td>1.056160e-09</td>\n",
       "      <td>4.0</td>\n",
       "    </tr>\n",
       "  </tbody>\n",
       "</table>\n",
       "</div>"
      ],
      "text/plain": [
       "   Susceptible   Exposed  Infected (symptomatic)  Asymptomatically Infected  \\\n",
       "0     0.999997  0.000000                0.000003                   0.000003   \n",
       "1     0.999992  0.000002                0.000002                   0.000002   \n",
       "2     0.999986  0.000003                0.000002                   0.000002   \n",
       "3     0.999979  0.000004                0.000002                   0.000002   \n",
       "4     0.999969  0.000004                0.000002                   0.000002   \n",
       "\n",
       "      Recovered  Hospitalised      Critical        Deaths  New Exposure  \\\n",
       "0  0.000000e+00  0.000000e+00  0.000000e+00  0.000000e+00      0.000000   \n",
       "1  8.998615e-07  2.109896e-08  2.988875e-10  5.317129e-11      0.000002   \n",
       "2  1.713046e-06  3.766124e-08  9.420031e-10  3.549337e-10      0.000002   \n",
       "3  2.507351e-06  5.181310e-08  1.711306e-09  1.015564e-09      0.000002   \n",
       "4  3.325171e-06  6.483361e-08  2.515383e-09  2.071724e-09      0.000002   \n",
       "\n",
       "     New Deaths  Time  \n",
       "0  0.000000e+00   0.0  \n",
       "1  5.317129e-11   1.0  \n",
       "2  3.017625e-10   2.0  \n",
       "3  6.606302e-10   3.0  \n",
       "4  1.056160e-09   4.0  "
      ]
     },
     "execution_count": 12,
     "metadata": {},
     "output_type": "execute_result"
    }
   ],
   "source": [
    "data = data.drop('Unnamed: 0', axis = 1)\n",
    "data.head()"
   ]
  },
  {
   "cell_type": "code",
   "execution_count": 18,
   "metadata": {},
   "outputs": [
    {
     "data": {
      "text/plain": [
       "<matplotlib.axes._subplots.AxesSubplot at 0x12588e210>"
      ]
     },
     "execution_count": 18,
     "metadata": {},
     "output_type": "execute_result"
    },
    {
     "data": {
      "image/png": "[encoded data removed]",
      "text/plain": [
       "<Figure size 432x288 with 1 Axes>"
      ]
     },
     "metadata": {
      "needs_background": "light"
     },
     "output_type": "display_data"
    }
   ],
   "source": [
    "data.Recovered.plot(kind = 'line')"
   ]
  },
  {
   "cell_type": "code",
   "execution_count": null,
   "metadata": {},
   "outputs": [],
   "source": []
  }
 ],
 "metadata": {
  "kernelspec": {
   "display_name": "Python 3",
   "language": "python",
   "name": "python3"
  },
  "language_info": {
   "codemirror_mode": {
    "name": "ipython",
    "version": 3
   },
   "file_extension": ".py",
   "mimetype": "text/x-python",
   "name": "python",
   "nbconvert_exporter": "python",
   "pygments_lexer": "ipython3",
   "version": "3.7.4"
  }
 },
 "nbformat": 4,
 "nbformat_minor": 4
}
